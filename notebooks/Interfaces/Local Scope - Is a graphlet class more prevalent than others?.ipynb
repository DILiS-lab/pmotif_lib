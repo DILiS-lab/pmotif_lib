{
 "cells": [
  {
   "cell_type": "code",
   "execution_count": 1,
   "id": "5fdef95d",
   "metadata": {},
   "outputs": [],
   "source": [
    "from pathlib import Path\n",
    "\n",
    "DATASET_BASE_PATH = Path(\"/home/timgarrels/masterthesis/datasets/\")\n",
    "OUT_BASE_PATH = Path(\"/home/timgarrels/masterthesis/output/pmotif_detection/\")\n",
    "\n",
    "ANALYSIS_CANDIDATES = {\n",
    "    \"yeast\": {\n",
    "        \"edgelist\": DATASET_BASE_PATH / \"yeastInter_st.txt\",\n",
    "        \"outpath\": OUT_BASE_PATH / \"yeastInter_st\",\n",
    "    },\n",
    "    \"all_4_graphlets\": {\n",
    "        \"edgelist\": DATASET_BASE_PATH / \"all_4_graphlets_no_comment\",\n",
    "        \"outpath\": OUT_BASE_PATH / \"all_4_graphlets_no_comment\",\n",
    "    },\n",
    "}"
   ]
  },
  {
   "cell_type": "code",
   "execution_count": 2,
   "id": "587fe08f",
   "metadata": {},
   "outputs": [],
   "source": [
    "CANDIDATE = \"yeast\"\n",
    "\n",
    "GRAPH_EDGELIST = ANALYSIS_CANDIDATES[CANDIDATE][\"edgelist\"]\n",
    "OUT = ANALYSIS_CANDIDATES[CANDIDATE][\"outpath\"]\n",
    "GRAPHLET_SIZE = 3"
   ]
  },
  {
   "cell_type": "code",
   "execution_count": 3,
   "id": "6e25ee55",
   "metadata": {},
   "outputs": [],
   "source": [
    "# Retrieve Graphlets and their metrics\n",
    "import pickle\n",
    "\n",
    "from pmotifs.PMotifGraph import PMotifGraph\n",
    "\n",
    "\n",
    "g = PMotifGraph(GRAPH_EDGELIST, OUT)\n",
    "\n",
    "with open(g.get_graphlet_metric_file(GRAPHLET_SIZE), \"rb\") as f:\n",
    "    graphlet_metrics = pickle.load(f)"
   ]
  },
  {
   "cell_type": "code",
   "execution_count": 4,
   "id": "c4f46614",
   "metadata": {},
   "outputs": [
    {
     "data": {
      "text/plain": [
       "{'011 100 100': 110646, '011 101 110': 257}"
      ]
     },
     "execution_count": 4,
     "metadata": {},
     "output_type": "execute_result"
    }
   ],
   "source": [
    "# Analysis by frequency does not make sense in local scope, all graphlet occurrences account to only one score\n",
    "graphlet_frequencies = g.load_graphlet_freq_file(GRAPHLET_SIZE)\n",
    "graphlet_frequencies"
   ]
  },
  {
   "cell_type": "code",
   "execution_count": 5,
   "id": "6c6dec46",
   "metadata": {},
   "outputs": [
    {
     "data": {
      "text/plain": [
       "{'011 100 100', '011 101 110'}"
      ]
     },
     "execution_count": 5,
     "metadata": {},
     "output_type": "execute_result"
    }
   ],
   "source": [
    "graphlet_classes = {k.graphlet_class for k in graphlet_metrics.graphlet_metrics.keys()}\n",
    "graphlet_classes"
   ]
  },
  {
   "cell_type": "markdown",
   "id": "c2561cfe",
   "metadata": {},
   "source": [
    "# Analysis"
   ]
  },
  {
   "cell_type": "code",
   "execution_count": 6,
   "id": "a2c07078",
   "metadata": {},
   "outputs": [],
   "source": [
    "from typing import Union\n",
    "\n",
    "from pmotifs.GraphletPositionalMetrics import GraphletPositionalMetrics\n",
    "\n",
    "\n",
    "def get_pos_metric_name():\n",
    "    return \"degree\"\n",
    "\n",
    "def get_positional_metric(pm: GraphletPositionalMetrics) -> Union[int, float]:\n",
    "    \"\"\"A wrapper to consolidate metrics\n",
    "    In the case of this example, motif degree does not need to be consolidated\"\"\"\n",
    "    return pm.degree"
   ]
  },
  {
   "cell_type": "code",
   "execution_count": 7,
   "id": "b37705e6",
   "metadata": {},
   "outputs": [
    {
     "data": {
      "text/html": [
       "<div>\n",
       "<style scoped>\n",
       "    .dataframe tbody tr th:only-of-type {\n",
       "        vertical-align: middle;\n",
       "    }\n",
       "\n",
       "    .dataframe tbody tr th {\n",
       "        vertical-align: top;\n",
       "    }\n",
       "\n",
       "    .dataframe thead th {\n",
       "        text-align: right;\n",
       "    }\n",
       "</style>\n",
       "<table border=\"1\" class=\"dataframe\">\n",
       "  <thead>\n",
       "    <tr style=\"text-align: right;\">\n",
       "      <th></th>\n",
       "      <th>graphlet_class</th>\n",
       "      <th>degree</th>\n",
       "    </tr>\n",
       "  </thead>\n",
       "  <tbody>\n",
       "    <tr>\n",
       "      <th>0</th>\n",
       "      <td>011 100 100</td>\n",
       "      <td>12</td>\n",
       "    </tr>\n",
       "    <tr>\n",
       "      <th>1</th>\n",
       "      <td>011 100 100</td>\n",
       "      <td>32</td>\n",
       "    </tr>\n",
       "    <tr>\n",
       "      <th>2</th>\n",
       "      <td>011 100 100</td>\n",
       "      <td>16</td>\n",
       "    </tr>\n",
       "    <tr>\n",
       "      <th>3</th>\n",
       "      <td>011 100 100</td>\n",
       "      <td>19</td>\n",
       "    </tr>\n",
       "    <tr>\n",
       "      <th>4</th>\n",
       "      <td>011 100 100</td>\n",
       "      <td>38</td>\n",
       "    </tr>\n",
       "  </tbody>\n",
       "</table>\n",
       "</div>"
      ],
      "text/plain": [
       "  graphlet_class  degree\n",
       "0    011 100 100      12\n",
       "1    011 100 100      32\n",
       "2    011 100 100      16\n",
       "3    011 100 100      19\n",
       "4    011 100 100      38"
      ]
     },
     "execution_count": 7,
     "metadata": {},
     "output_type": "execute_result"
    }
   ],
   "source": [
    "import pandas as pd\n",
    "\n",
    "df = pd.DataFrame([\n",
    "    {\"graphlet_class\": g_oc.graphlet_class, get_pos_metric_name(): get_positional_metric(g_pm)}\n",
    "    for g_oc, g_pm in graphlet_metrics.graphlet_metrics.items()\n",
    "])\n",
    "\n",
    "df.head()"
   ]
  },
  {
   "cell_type": "code",
   "execution_count": 8,
   "id": "c95f85f3",
   "metadata": {
    "scrolled": false
   },
   "outputs": [
    {
     "data": {
      "image/png": "[encoded data removed]",
      "text/plain": [
       "<Figure size 1000x500 with 2 Axes>"
      ]
     },
     "metadata": {},
     "output_type": "display_data"
    }
   ],
   "source": [
    "import matplotlib.pyplot as plt\n",
    "\n",
    "from pmotifs.graphlet_representation import graphlet_class_to_name\n",
    "\n",
    "\n",
    "fig, axes = plt.subplots(1, len(graphlet_classes), figsize=(len(graphlet_classes) * 5, 5))\n",
    "\n",
    "for i, graphlet_class in enumerate(graphlet_classes):\n",
    "    ax = axes[i]\n",
    "    df[df[\"graphlet_class\"] == graphlet_class].plot.hist(ax=ax)\n",
    "    ax.set_title(graphlet_class_to_name(graphlet_class))"
   ]
  },
  {
   "cell_type": "code",
   "execution_count": 10,
   "id": "75258c70",
   "metadata": {},
   "outputs": [
    {
     "data": {
      "text/plain": [
       "Text(0.5, 1.0, 'degree Histogram of all 3-Graphlets')"
      ]
     },
     "execution_count": 10,
     "metadata": {},
     "output_type": "execute_result"
    },
    {
     "data": {
      "image/png": "[encoded data removed]",
      "text/plain": [
       "<Figure size 640x480 with 1 Axes>"
      ]
     },
     "metadata": {},
     "output_type": "display_data"
    }
   ],
   "source": [
    "import matplotlib.pyplot as plt\n",
    "\n",
    "from pmotifs.graphlet_representation import graphlet_class_to_name\n",
    "\n",
    "\n",
    "fig, ax = plt.subplots(1, 1)\n",
    "\n",
    "x = [\n",
    "    df[df[\"graphlet_class\"] == graphlet_class][\"degree\"]\n",
    "    for graphlet_class in graphlet_classes\n",
    "]\n",
    "\n",
    "ax.hist(x, label=[graphlet_class_to_name(graphlet_class) for graphlet_class in graphlet_classes])\n",
    "ax.legend()\n",
    "ax.set_xlabel(get_pos_metric_name())\n",
    "ax.set_ylabel(\"Frequency\")\n",
    "ax.set_title(f\"{get_pos_metric_name()} Histogram of all {GRAPHLET_SIZE}-Graphlets\")"
   ]
  },
  {
   "cell_type": "markdown",
   "id": "75639189",
   "metadata": {},
   "source": [
    "TODO: Which statistical tests would be appropriate here to determine the prevalency of one graphlet class over the other? Or is the plot sufficient?"
   ]
  }
 ],
 "metadata": {
  "kernelspec": {
   "display_name": "masterthesis",
   "language": "python",
   "name": "masterthesis"
  },
  "language_info": {
   "codemirror_mode": {
    "name": "ipython",
    "version": 3
   },
   "file_extension": ".py",
   "mimetype": "text/x-python",
   "name": "python",
   "nbconvert_exporter": "python",
   "pygments_lexer": "ipython3",
   "version": "3.10.6"
  }
 },
 "nbformat": 4,
 "nbformat_minor": 5
}
