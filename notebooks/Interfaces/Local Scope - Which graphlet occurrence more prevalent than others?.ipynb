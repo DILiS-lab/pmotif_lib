{
 "cells": [
  {
   "cell_type": "code",
   "execution_count": 1,
   "id": "4d5d65bc",
   "metadata": {},
   "outputs": [],
   "source": [
    "from pathlib import Path\n",
    "\n",
    "DATASET_BASE_PATH = Path(\"/home/timgarrels/masterthesis/datasets/\")\n",
    "OUT_BASE_PATH = Path(\"/home/timgarrels/masterthesis/output/cluster_calc/\")\n",
    "\n",
    "ANALYSIS_CANDIDATES = {\n",
    "    \"yeast\": {\n",
    "        \"edgelist\": DATASET_BASE_PATH / \"yeastInter_st.txt\",\n",
    "        \"outpath\": OUT_BASE_PATH,\n",
    "    },\n",
    "}"
   ]
  },
  {
   "cell_type": "code",
   "execution_count": 2,
   "id": "c8c5a2b6",
   "metadata": {},
   "outputs": [],
   "source": [
    "CANDIDATE = \"yeast\"\n",
    "\n",
    "GRAPH_EDGELIST = ANALYSIS_CANDIDATES[CANDIDATE][\"edgelist\"]\n",
    "OUT = ANALYSIS_CANDIDATES[CANDIDATE][\"outpath\"]\n",
    "GRAPHLET_SIZE = 4"
   ]
  },
  {
   "cell_type": "code",
   "execution_count": 4,
   "id": "f7ab2318",
   "metadata": {},
   "outputs": [],
   "source": [
    "# Retrieve Graphlets and their metrics\n",
    "import pickle\n",
    "\n",
    "from pmotifs.PMotifGraph import PMotifGraph\n",
    "\n",
    "\n",
    "g = PMotifGraph(GRAPH_EDGELIST, OUT)"
   ]
  },
  {
   "cell_type": "code",
   "execution_count": 5,
   "id": "0f77f6e9",
   "metadata": {},
   "outputs": [],
   "source": [
    "graphlet_pos = g.load_graphlet_pos_zip(GRAPHLET_SIZE)"
   ]
  },
  {
   "cell_type": "code",
   "execution_count": null,
   "id": "f1be71d2",
   "metadata": {},
   "outputs": [
    {
     "name": "stderr",
     "output_type": "stream",
     "text": [
      "Loading Anchor Nodes: 100%|████████████████████████████████| 42/42 [00:00<00:00, 29007.21it/s]\n",
      "Loading Graph Modules: 100%|███████████████████████████████| 27/27 [00:00<00:00, 42799.02it/s]\n",
      "Loading Graphlet Metrics:  35%|█████▌          | 5819165/16694356 [00:39<00:54, 198330.95it/s]"
     ]
    }
   ],
   "source": [
    "graphlet_metrics = g.load_positional_data(GRAPHLET_SIZE)"
   ]
  },
  {
   "cell_type": "code",
   "execution_count": null,
   "id": "3aa4059e",
   "metadata": {},
   "outputs": [],
   "source": [
    "# Analysis by frequency does not make sense in local scope, all graphlet occurrences account to only one score\n",
    "graphlet_frequencies = g.load_graphlet_freq_file(GRAPHLET_SIZE)\n",
    "graphlet_frequencies"
   ]
  },
  {
   "cell_type": "code",
   "execution_count": null,
   "id": "8b8fa9b4",
   "metadata": {},
   "outputs": [],
   "source": [
    "graphlet_classes = {k.graphlet_class for k in graphlet_metrics.graphlet_metrics.keys()}\n",
    "graphlet_classes"
   ]
  },
  {
   "cell_type": "markdown",
   "id": "35014455",
   "metadata": {},
   "source": [
    "# Analysis"
   ]
  },
  {
   "cell_type": "code",
   "execution_count": null,
   "id": "1664f16e",
   "metadata": {},
   "outputs": [],
   "source": [
    "from typing import Union\n",
    "\n",
    "from pmotifs.GraphletPositionalMetrics import GraphletPositionalMetrics\n",
    "\n",
    "\n",
    "def get_pos_metric_name():\n",
    "    return \"degree\"\n",
    "\n",
    "def get_positional_metric(pm: GraphletPositionalMetrics) -> Union[int, float]:\n",
    "    \"\"\"A wrapper to consolidate metrics\n",
    "    In the case of this example, motif degree does not need to be consolidated\"\"\"\n",
    "    return pm.degree"
   ]
  },
  {
   "cell_type": "code",
   "execution_count": null,
   "id": "4e08ab2c",
   "metadata": {},
   "outputs": [],
   "source": [
    "def reduce_graphlet_metrics_to_class(graphlet_metrics, graphlet_class):\n",
    "    return [\n",
    "        (k,v)\n",
    "        for k,v in graphlet_metrics.items()\n",
    "        if k.graphlet_class == graphlet_class\n",
    "    ]"
   ]
  },
  {
   "cell_type": "code",
   "execution_count": null,
   "id": "2785ccd2",
   "metadata": {},
   "outputs": [],
   "source": [
    "def reduce_graphlet_metrics_to_pos_metric(graphlet_metrics, metric_callback):\n",
    "    return [metric_callback(g_pm) for g_pm in dict(graphlet_metrics).values()]"
   ]
  },
  {
   "cell_type": "code",
   "execution_count": null,
   "id": "80e38059",
   "metadata": {},
   "outputs": [],
   "source": [
    "import matplotlib.pyplot as plt\n",
    "\n",
    "from pmotifs.graphlet_representation import graphlet_class_to_name\n",
    "\n",
    "fig, axes = plt.subplots(1, len(graphlet_classes), figsize=(len(graphlet_classes) * 5, 5))\n",
    "\n",
    "for i, graphlet_class in enumerate(graphlet_classes):\n",
    "    ax = axes[i]\n",
    "\n",
    "    relevant_graphlet_occurrences = reduce_graphlet_metrics_to_class(\n",
    "        graphlet_metrics.graphlet_metrics,\n",
    "        graphlet_class,\n",
    "    )\n",
    "    metric = reduce_graphlet_metrics_to_pos_metric(\n",
    "        relevant_graphlet_occurrences,\n",
    "        get_positional_metric,\n",
    "    )\n",
    "    \n",
    "    # Quantiles\n",
    "    \n",
    "    ax.hist(metric, label=graphlet_class_to_name(graphlet_class))\n",
    "    ax.legend()\n",
    "    ax.set_xlabel(get_pos_metric_name())\n",
    "    ax.set_ylabel(\"Frequency\")"
   ]
  },
  {
   "cell_type": "markdown",
   "id": "4365c1d5",
   "metadata": {},
   "source": [
    "TODO: Which statistical tests would be appropriate here to determine the prevalency of one graphlet class over the other? Or is the plot sufficient?"
   ]
  }
 ],
 "metadata": {
  "kernelspec": {
   "display_name": "masterthesis",
   "language": "python",
   "name": "masterthesis"
  },
  "language_info": {
   "codemirror_mode": {
    "name": "ipython",
    "version": 3
   },
   "file_extension": ".py",
   "mimetype": "text/x-python",
   "name": "python",
   "nbconvert_exporter": "python",
   "pygments_lexer": "ipython3",
   "version": "3.10.6"
  }
 },
 "nbformat": 4,
 "nbformat_minor": 5
}
