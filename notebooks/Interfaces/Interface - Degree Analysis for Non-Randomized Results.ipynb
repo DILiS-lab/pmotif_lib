{
 "cells": [
  {
   "cell_type": "markdown",
   "id": "5db424de",
   "metadata": {},
   "source": [
    "# Settings"
   ]
  },
  {
   "cell_type": "code",
   "execution_count": 1,
   "id": "f3040bfb",
   "metadata": {},
   "outputs": [],
   "source": [
    "from pathlib import Path\n",
    "\n",
    "output_directory = Path(\"/home/timgarrels/masterthesis/output/degree_analysis_for_non_randomized_results\")\n",
    "graph_edgelist = Path(\"/home/timgarrels/masterthesis/datasets/yeastInter_st.txt\")\n",
    "motif_size = 3"
   ]
  },
  {
   "cell_type": "markdown",
   "id": "4d1b4bea",
   "metadata": {},
   "source": [
    "# Part 0: Setup"
   ]
  },
  {
   "cell_type": "code",
   "execution_count": 2,
   "id": "ced25268",
   "metadata": {},
   "outputs": [],
   "source": [
    "from os import makedirs\n",
    "\n",
    "makedirs(output_directory, exist_ok=True)"
   ]
  },
  {
   "cell_type": "markdown",
   "id": "4775f756",
   "metadata": {},
   "source": [
    "# Part 1: Data Gathering"
   ]
  },
  {
   "cell_type": "code",
   "execution_count": 3,
   "id": "8339a2a0",
   "metadata": {},
   "outputs": [],
   "source": [
    "\"\"\"Load and Validate Graph\"\"\"\n",
    "import networkx as nx\n",
    "\n",
    "from motif_position_tooling.utils.motif_io import MotifGraph\n",
    "\n",
    "\n",
    "nx_graph = nx.read_edgelist(\n",
    "    graph_edgelist,\n",
    "    create_using=nx.Graph,  # Asserts undirected graph\n",
    "    data=False,  # Asserts unweighted graph\n",
    ")\n",
    "\n",
    "if len(list(nx.selfloop_edges(nx_graph))) > 0:\n",
    "    raise ValueError(\"Graph contains Self-Loops!\")  # Asserts simple graph\n",
    "\n",
    "if min(map(int, nx_graph.nodes)) < 1:\n",
    "    raise ValueError(\"Graph contains node ids below '1'!\")  # Assert lowest node index is >= 1\n",
    "\n",
    "motif_graph = MotifGraph(graph_edgelist.parent, graph_edgelist.name, output_directory)"
   ]
  },
  {
   "cell_type": "code",
   "execution_count": 4,
   "id": "2911c3f6",
   "metadata": {},
   "outputs": [],
   "source": [
    "\"\"\"Motif Detection\"\"\"\n",
    "from motif_position_tooling.utils.gtrieScannerUtils import gtrieScanner\n",
    "from motif_position_tooling.config import GTRIESCANNER_EXECUTABLE\n",
    "\n",
    "try:\n",
    "    # This can take a long time\n",
    "    gtrieScanner(\n",
    "        graph_edgelist=motif_graph.get_graph_path(),\n",
    "        gtrieScanner_executable=GTRIESCANNER_EXECUTABLE,\n",
    "        directed=False,\n",
    "        motif_size=motif_size,\n",
    "        output_directory=motif_graph.get_motif_directory(),\n",
    "    )\n",
    "except FileExistsError:\n",
    "    # Gtrie already ran, use file from previous run\n",
    "    pass"
   ]
  },
  {
   "cell_type": "code",
   "execution_count": 5,
   "id": "3493c76a",
   "metadata": {},
   "outputs": [],
   "source": [
    "\"\"\"Positional Metrics\"\"\"\n",
    "import json\n",
    "\n",
    "from motif_position_tooling.utils.positional_metrics import calculate_metrics\n",
    "\n",
    "\n",
    "if motif_graph.get_motif_metric_json(motif_size).is_file():\n",
    "    with open(motif_graph.get_motif_metric_json(motif_size), \"r\") as f:\n",
    "        data = json.load(f)\n",
    "    # JSON stores keys as str, change them back to int\n",
    "    data[\"motif_data\"] = {int(k): v for k,v in data[\"motif_data\"].items()}\n",
    "else:\n",
    "    # This can take an even longer time\n",
    "    data = calculate_metrics(motif_graph, motif_size)\n",
    "    with open(motif_graph.get_motif_metric_json(motif_size), \"w\") as f:\n",
    "        json.dump(data, f)\n",
    "    "
   ]
  },
  {
   "cell_type": "markdown",
   "id": "031499ad",
   "metadata": {},
   "source": [
    "# Part 2 : Graphlet Analyses"
   ]
  },
  {
   "cell_type": "code",
   "execution_count": 7,
   "id": "0f396450",
   "metadata": {},
   "outputs": [
    {
     "data": {
      "text/html": [
       "<div>\n",
       "<style scoped>\n",
       "    .dataframe tbody tr th:only-of-type {\n",
       "        vertical-align: middle;\n",
       "    }\n",
       "\n",
       "    .dataframe tbody tr th {\n",
       "        vertical-align: top;\n",
       "    }\n",
       "\n",
       "    .dataframe thead th {\n",
       "        text-align: right;\n",
       "    }\n",
       "</style>\n",
       "<table border=\"1\" class=\"dataframe\">\n",
       "  <thead>\n",
       "    <tr style=\"text-align: right;\">\n",
       "      <th></th>\n",
       "      <th>motif_id</th>\n",
       "      <th>motif_nodes</th>\n",
       "      <th>degree</th>\n",
       "    </tr>\n",
       "    <tr>\n",
       "      <th>index</th>\n",
       "      <th></th>\n",
       "      <th></th>\n",
       "      <th></th>\n",
       "    </tr>\n",
       "  </thead>\n",
       "  <tbody>\n",
       "    <tr>\n",
       "      <th>0</th>\n",
       "      <td>001 001 110</td>\n",
       "      <td>[1, 688, 182]</td>\n",
       "      <td>12</td>\n",
       "    </tr>\n",
       "    <tr>\n",
       "      <th>1</th>\n",
       "      <td>001 001 110</td>\n",
       "      <td>[1, 688, 687]</td>\n",
       "      <td>32</td>\n",
       "    </tr>\n",
       "    <tr>\n",
       "      <th>2</th>\n",
       "      <td>001 001 110</td>\n",
       "      <td>[1, 688, 686]</td>\n",
       "      <td>16</td>\n",
       "    </tr>\n",
       "    <tr>\n",
       "      <th>3</th>\n",
       "      <td>001 001 110</td>\n",
       "      <td>[1, 688, 685]</td>\n",
       "      <td>19</td>\n",
       "    </tr>\n",
       "    <tr>\n",
       "      <th>4</th>\n",
       "      <td>001 001 110</td>\n",
       "      <td>[1, 688, 684]</td>\n",
       "      <td>38</td>\n",
       "    </tr>\n",
       "    <tr>\n",
       "      <th>...</th>\n",
       "      <td>...</td>\n",
       "      <td>...</td>\n",
       "      <td>...</td>\n",
       "    </tr>\n",
       "    <tr>\n",
       "      <th>110898</th>\n",
       "      <td>001 001 110</td>\n",
       "      <td>[625, 679, 634]</td>\n",
       "      <td>38</td>\n",
       "    </tr>\n",
       "    <tr>\n",
       "      <th>110899</th>\n",
       "      <td>001 001 110</td>\n",
       "      <td>[625, 659, 634]</td>\n",
       "      <td>38</td>\n",
       "    </tr>\n",
       "    <tr>\n",
       "      <th>110900</th>\n",
       "      <td>001 001 110</td>\n",
       "      <td>[662, 673, 677]</td>\n",
       "      <td>9</td>\n",
       "    </tr>\n",
       "    <tr>\n",
       "      <th>110901</th>\n",
       "      <td>001 001 110</td>\n",
       "      <td>[662, 673, 675]</td>\n",
       "      <td>9</td>\n",
       "    </tr>\n",
       "    <tr>\n",
       "      <th>110902</th>\n",
       "      <td>001 001 110</td>\n",
       "      <td>[673, 677, 675]</td>\n",
       "      <td>8</td>\n",
       "    </tr>\n",
       "  </tbody>\n",
       "</table>\n",
       "<p>110903 rows × 3 columns</p>\n",
       "</div>"
      ],
      "text/plain": [
       "           motif_id      motif_nodes  degree\n",
       "index                                       \n",
       "0       001 001 110    [1, 688, 182]      12\n",
       "1       001 001 110    [1, 688, 687]      32\n",
       "2       001 001 110    [1, 688, 686]      16\n",
       "3       001 001 110    [1, 688, 685]      19\n",
       "4       001 001 110    [1, 688, 684]      38\n",
       "...             ...              ...     ...\n",
       "110898  001 001 110  [625, 679, 634]      38\n",
       "110899  001 001 110  [625, 659, 634]      38\n",
       "110900  001 001 110  [662, 673, 677]       9\n",
       "110901  001 001 110  [662, 673, 675]       9\n",
       "110902  001 001 110  [673, 677, 675]       8\n",
       "\n",
       "[110903 rows x 3 columns]"
      ]
     },
     "execution_count": 7,
     "metadata": {},
     "output_type": "execute_result"
    }
   ],
   "source": [
    "\"\"\"Load Motifs and Positional Metrics\"\"\"\n",
    "import pandas as pd\n",
    "\n",
    "from motif_position_tooling.utils.motif_io import load_motif_zip\n",
    "\n",
    "\n",
    "motif_pos_lookup = load_motif_zip(motif_graph.get_motif_pos_zip(motif_size))\n",
    "\n",
    "motif_data = []\n",
    "for i, (motif_id, motif_nodes) in enumerate(motif_pos_lookup):\n",
    "    degree = data[\"motif_data\"][i][1][\"motif_degree\"]\n",
    "\n",
    "    motif_data.append({\n",
    "        \"index\": i,\n",
    "        \"motif_id\": motif_id,\n",
    "        \"motif_nodes\": motif_nodes,\n",
    "        \"degree\": degree,\n",
    "    })\n",
    "    \n",
    "df = pd.DataFrame(motif_data).set_index(\"index\")\n",
    "df"
   ]
  },
  {
   "cell_type": "code",
   "execution_count": null,
   "id": "38b43620",
   "metadata": {},
   "outputs": [],
   "source": []
  },
  {
   "cell_type": "code",
   "execution_count": 8,
   "id": "12adb48d",
   "metadata": {},
   "outputs": [
    {
     "data": {
      "image/png": "[encoded data removed]",
      "text/plain": [
       "<Figure size 2000x500 with 2 Axes>"
      ]
     },
     "metadata": {},
     "output_type": "display_data"
    }
   ],
   "source": [
    "\"\"\"Plot Degree Distribution of each motif_id\"\"\"\n",
    "import matplotlib.pyplot as plt\n",
    "from collections import defaultdict\n",
    "\n",
    "from motif_position_tooling.utils.motif_names import MOTIF_NAME_LOOKUP\n",
    "\n",
    "\n",
    "def to_count(l):\n",
    "    counts = defaultdict(int)\n",
    "    for e in l:\n",
    "        counts[e] += 1\n",
    "    return counts        \n",
    "        \n",
    "\n",
    "degrees_per_motif_id = df.groupby(\"motif_id\").agg(list)[\"degree\"]\n",
    "motif_ids = degrees_per_motif_id.index\n",
    "\n",
    "fig, axes = plt.subplots(1, len(motif_ids), figsize=(20, 5))\n",
    "\n",
    "for i, m_id in enumerate(motif_ids):\n",
    "    freq = to_count(degrees_per_motif_id[m_id])\n",
    "    axes[i].bar(freq.keys(), freq.values())\n",
    "    axes[i].set_title(MOTIF_NAME_LOOKUP[m_id])\n",
    "    axes[i].set_xticks(range(max(freq.keys())))\n",
    "    axes[i].set_xticklabels([i if not i % 2 else \"\" for i in range(max(freq.keys()))], rotation=45)\n",
    "    \n",
    "    axes[i].set_xlabel(\"Degree\")\n",
    "    axes[i].set_ylabel(\"#\")\n",
    "    "
   ]
  },
  {
   "cell_type": "code",
   "execution_count": 9,
   "id": "d5b6830b",
   "metadata": {},
   "outputs": [
    {
     "data": {
      "text/plain": [
       "<matplotlib.legend.Legend at 0x7f3f623d1c00>"
      ]
     },
     "execution_count": 9,
     "metadata": {},
     "output_type": "execute_result"
    },
    {
     "data": {
      "image/png": "[encoded data removed]",
      "text/plain": [
       "<Figure size 640x480 with 1 Axes>"
      ]
     },
     "metadata": {},
     "output_type": "display_data"
    }
   ],
   "source": [
    "fig, ax = plt.subplots(1,1)\n",
    "\n",
    "for i, m_id in enumerate(motif_ids):\n",
    "    freq = to_count(degrees_per_motif_id[m_id])\n",
    "    ax.bar(freq.keys(), freq.values(), label=m_id)\n",
    "ax.set_yscale(\"log\")\n",
    "ax.legend()"
   ]
  },
  {
   "cell_type": "markdown",
   "id": "d354f1a6",
   "metadata": {},
   "source": [
    "It can be seen that the degree of the 3-Dash occurences is vastly higher than the degree of the triangle occurrences. As any triangle can be turned to a 3-Dash by removing one edge, the histogram of \"Triangle\" is contained in the \"3-Dash\" histogram.\n",
    "\n",
    "Despite this fact, this histogram suggests that the most connected graphlet is the 3-Dash, especially the most connected parts of the graph are 3-Dash occurrences.\n",
    "\n",
    "This histogram already suggests that a few trianlge occurences are significantly more connected than other triangle occurences."
   ]
  },
  {
   "cell_type": "markdown",
   "id": "14aa935d",
   "metadata": {},
   "source": [
    "Local Outlier Factor\n",
    "PCA\n",
    "Isolation Forest\n"
   ]
  }
 ],
 "metadata": {
  "kernelspec": {
   "display_name": "masterthesis",
   "language": "python",
   "name": "masterthesis"
  },
  "language_info": {
   "codemirror_mode": {
    "name": "ipython",
    "version": 3
   },
   "file_extension": ".py",
   "mimetype": "text/x-python",
   "name": "python",
   "nbconvert_exporter": "python",
   "pygments_lexer": "ipython3",
   "version": "3.10.6"
  }
 },
 "nbformat": 4,
 "nbformat_minor": 5
}
