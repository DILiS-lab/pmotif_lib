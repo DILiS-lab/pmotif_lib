{
 "cells": [
  {
   "cell_type": "markdown",
   "id": "5db424de",
   "metadata": {},
   "source": [
    "# Settings"
   ]
  },
  {
   "cell_type": "code",
   "execution_count": 1,
   "id": "f3040bfb",
   "metadata": {},
   "outputs": [],
   "source": [
    "from pathlib import Path\n",
    "\n",
    "output_directory = Path(\"/home/timgarrels/masterthesis/output/degree_analysis_for_non_randomized_results\")\n",
    "graph_edgelist = Path(\"/home/timgarrels/masterthesis/datasets/yeastInter_st.txt\")\n",
    "graphlet_size = 3"
   ]
  },
  {
   "cell_type": "markdown",
   "id": "4d1b4bea",
   "metadata": {},
   "source": [
    "# Part 0: Setup"
   ]
  },
  {
   "cell_type": "code",
   "execution_count": 2,
   "id": "ced25268",
   "metadata": {},
   "outputs": [],
   "source": [
    "from os import makedirs\n",
    "\n",
    "makedirs(output_directory, exist_ok=True)"
   ]
  },
  {
   "cell_type": "markdown",
   "id": "4775f756",
   "metadata": {},
   "source": [
    "# Part 1: Data Gathering"
   ]
  },
  {
   "cell_type": "code",
   "execution_count": 3,
   "id": "8339a2a0",
   "metadata": {},
   "outputs": [],
   "source": [
    "\"\"\"Load and Validate Graph\"\"\"\n",
    "import networkx as nx\n",
    "\n",
    "from pmotifs.PMotifGraph import PMotifGraph\n",
    "\n",
    "\n",
    "nx_graph = nx.read_edgelist(\n",
    "    graph_edgelist,\n",
    "    create_using=nx.Graph,  # Asserts undirected graph\n",
    "    data=False,  # Asserts unweighted graph\n",
    ")\n",
    "\n",
    "if len(list(nx.selfloop_edges(nx_graph))) > 0:\n",
    "    raise ValueError(\"Graph contains Self-Loops!\")  # Asserts simple graph\n",
    "\n",
    "if min(map(int, nx_graph.nodes)) < 1:\n",
    "    raise ValueError(\"Graph contains node ids below '1'!\")  # Assert lowest node index is >= 1\n",
    "\n",
    "pmotif_graph = PMotifGraph(graph_edgelist, output_directory)"
   ]
  },
  {
   "cell_type": "code",
   "execution_count": 4,
   "id": "2911c3f6",
   "metadata": {},
   "outputs": [],
   "source": [
    "\"\"\"Motif Detection\"\"\"\n",
    "from pmotifs.gtrieScanner.wrapper import run_gtrieScanner\n",
    "from pmotifs.config import GTRIESCANNER_EXECUTABLE\n",
    "\n",
    "try:\n",
    "    # This can take a long time\n",
    "    run_gtrieScanner(\n",
    "        graph_edgelist=pmotif_graph.get_graph_path(),\n",
    "        gtrieScanner_executable=GTRIESCANNER_EXECUTABLE,\n",
    "        directed=False,\n",
    "        graphlet_size=graphlet_size,\n",
    "        output_directory=pmotif_graph.get_graphlet_directory(),\n",
    "    )\n",
    "except FileExistsError:\n",
    "    # Gtrie already ran, use file from previous run\n",
    "    pass"
   ]
  },
  {
   "cell_type": "code",
   "execution_count": 5,
   "id": "3493c76a",
   "metadata": {},
   "outputs": [
    {
     "name": "stderr",
     "output_type": "stream",
     "text": [
      "                                                                                                          \r"
     ]
    },
    {
     "ename": "KeyboardInterrupt",
     "evalue": "",
     "output_type": "error",
     "traceback": [
      "\u001B[0;31m---------------------------------------------------------------------------\u001B[0m",
      "\u001B[0;31mKeyboardInterrupt\u001B[0m                         Traceback (most recent call last)",
      "Cell \u001B[0;32mIn[5], line 13\u001B[0m\n\u001B[1;32m     10\u001B[0m     data[\u001B[38;5;124m\"\u001B[39m\u001B[38;5;124mmotif_data\u001B[39m\u001B[38;5;124m\"\u001B[39m] \u001B[38;5;241m=\u001B[39m {\u001B[38;5;28mint\u001B[39m(k): v \u001B[38;5;28;01mfor\u001B[39;00m k,v \u001B[38;5;129;01min\u001B[39;00m data[\u001B[38;5;124m\"\u001B[39m\u001B[38;5;124mmotif_data\u001B[39m\u001B[38;5;124m\"\u001B[39m]\u001B[38;5;241m.\u001B[39mitems()}\n\u001B[1;32m     11\u001B[0m \u001B[38;5;28;01melse\u001B[39;00m:\n\u001B[1;32m     12\u001B[0m     \u001B[38;5;66;03m# This can take an even longer time\u001B[39;00m\n\u001B[0;32m---> 13\u001B[0m     data \u001B[38;5;241m=\u001B[39m \u001B[43mcalculate_metrics\u001B[49m\u001B[43m(\u001B[49m\u001B[43mpmotif_graph\u001B[49m\u001B[43m,\u001B[49m\u001B[43m \u001B[49m\u001B[43mgraphlet_size\u001B[49m\u001B[43m)\u001B[49m\n\u001B[1;32m     14\u001B[0m     \u001B[38;5;28;01mwith\u001B[39;00m \u001B[38;5;28mopen\u001B[39m(pmotif_graph\u001B[38;5;241m.\u001B[39mget_graphlet_metric_json(graphlet_size), \u001B[38;5;124m\"\u001B[39m\u001B[38;5;124mw\u001B[39m\u001B[38;5;124m\"\u001B[39m) \u001B[38;5;28;01mas\u001B[39;00m f:\n\u001B[1;32m     15\u001B[0m         json\u001B[38;5;241m.\u001B[39mdump(data, f)\n",
      "File \u001B[0;32m~/Projects/masterthesis/experiment/motif_position_tooling/pmotifs/positional_metrics.py:124\u001B[0m, in \u001B[0;36mcalculate_metrics\u001B[0;34m(pmotif_graph, graphlet_size, anchor_nodes_generator, graph_modules_generator)\u001B[0m\n\u001B[1;32m    121\u001B[0m g \u001B[38;5;241m=\u001B[39m nx\u001B[38;5;241m.\u001B[39mreadwrite\u001B[38;5;241m.\u001B[39medgelist\u001B[38;5;241m.\u001B[39mread_edgelist(pmotif_graph\u001B[38;5;241m.\u001B[39mget_graph_path(), data\u001B[38;5;241m=\u001B[39m\u001B[38;5;28;01mFalse\u001B[39;00m, create_using\u001B[38;5;241m=\u001B[39mnx\u001B[38;5;241m.\u001B[39mGraph)\n\u001B[1;32m    122\u001B[0m graphlet_occurrences: List[GraphletOccurrence] \u001B[38;5;241m=\u001B[39m pmotif_graph\u001B[38;5;241m.\u001B[39mload_graphlet_pos_zip(graphlet_size)\n\u001B[0;32m--> 124\u001B[0m \u001B[38;5;28;01mreturn\u001B[39;00m \u001B[43mprocess_graphlet_occurrences\u001B[49m\u001B[43m(\u001B[49m\u001B[43mg\u001B[49m\u001B[43m,\u001B[49m\u001B[43m \u001B[49m\u001B[43mgraphlet_occurrences\u001B[49m\u001B[43m,\u001B[49m\u001B[43m \u001B[49m\u001B[43manchor_nodes_generator\u001B[49m\u001B[43m,\u001B[49m\u001B[43m \u001B[49m\u001B[43mgraph_modules_generator\u001B[49m\u001B[43m)\u001B[49m\n",
      "File \u001B[0;32m~/Projects/masterthesis/experiment/motif_position_tooling/pmotifs/positional_metrics.py:102\u001B[0m, in \u001B[0;36mprocess_graphlet_occurrences\u001B[0;34m(g, graphlet_occurrences, anchor_nodes_generator, graph_modules_generator)\u001B[0m\n\u001B[1;32m     94\u001B[0m pbar_graphlet_occurrences: Iterable[GraphletOccurrence] \u001B[38;5;241m=\u001B[39m tqdm(\n\u001B[1;32m     95\u001B[0m     graphlet_occurrences,\n\u001B[1;32m     96\u001B[0m     desc\u001B[38;5;241m=\u001B[39m\u001B[38;5;124m\"\u001B[39m\u001B[38;5;124mCalculating Positional Metrics for Graphlet Occurrences\u001B[39m\u001B[38;5;124m\"\u001B[39m,\n\u001B[1;32m     97\u001B[0m     leave\u001B[38;5;241m=\u001B[39m\u001B[38;5;28;01mFalse\u001B[39;00m,\n\u001B[1;32m     98\u001B[0m )\n\u001B[1;32m     99\u001B[0m \u001B[38;5;28;01mfor\u001B[39;00m graphlet_occurrence \u001B[38;5;129;01min\u001B[39;00m pbar_graphlet_occurrences:\n\u001B[1;32m    100\u001B[0m     positional_metrics[graphlet_occurrence] \u001B[38;5;241m=\u001B[39m GraphletPositionalMetrics(\n\u001B[1;32m    101\u001B[0m         degree\u001B[38;5;241m=\u001B[39mget_group_degree(g, graphlet_occurrence\u001B[38;5;241m.\u001B[39mnodes),\n\u001B[0;32m--> 102\u001B[0m         anchor_node_distances\u001B[38;5;241m=\u001B[39m\u001B[43mgraphlet_occurrence_distance_to_nodes\u001B[49m\u001B[43m(\u001B[49m\u001B[43mg\u001B[49m\u001B[43m,\u001B[49m\u001B[43m \u001B[49m\u001B[43manchor_nodes\u001B[49m\u001B[43m,\u001B[49m\u001B[43m \u001B[49m\u001B[43mgraphlet_occurrence\u001B[49m\u001B[38;5;241;43m.\u001B[39;49m\u001B[43mnodes\u001B[49m\u001B[43m)\u001B[49m,\n\u001B[1;32m    103\u001B[0m         graph_module_participation\u001B[38;5;241m=\u001B[39mgraphlet_occurrence_module_participation(g, graph_modules, graphlet_occurrence\u001B[38;5;241m.\u001B[39mnodes),\n\u001B[1;32m    104\u001B[0m     )\n\u001B[1;32m    106\u001B[0m \u001B[38;5;28;01mreturn\u001B[39;00m GraphPositionalMetrics(\n\u001B[1;32m    107\u001B[0m     anchor_nodes\u001B[38;5;241m=\u001B[39manchor_nodes,\n\u001B[1;32m    108\u001B[0m     graph_modules\u001B[38;5;241m=\u001B[39mgraph_modules,\n\u001B[1;32m    109\u001B[0m     graphlet_metrics\u001B[38;5;241m=\u001B[39mpositional_metrics,\n\u001B[1;32m    110\u001B[0m )\n",
      "File \u001B[0;32m~/Projects/masterthesis/experiment/motif_position_tooling/pmotifs/positional_metrics.py:52\u001B[0m, in \u001B[0;36mgraphlet_occurrence_distance_to_nodes\u001B[0;34m(g, anchor_nodes, group)\u001B[0m\n\u001B[1;32m     50\u001B[0m \u001B[38;5;28;01mdef\u001B[39;00m \u001B[38;5;21mgraphlet_occurrence_distance_to_nodes\u001B[39m(g: nx\u001B[38;5;241m.\u001B[39mGraph, anchor_nodes: List[\u001B[38;5;28mstr\u001B[39m], group: List[\u001B[38;5;28mstr\u001B[39m]):\n\u001B[0;32m---> 52\u001B[0m     nodes_shortest_path_lookup \u001B[38;5;241m=\u001B[39m {\n\u001B[1;32m     53\u001B[0m         anchor_node: nx\u001B[38;5;241m.\u001B[39msingle_source_shortest_path_length(g, anchor_node)\n\u001B[1;32m     54\u001B[0m         \u001B[38;5;28;01mfor\u001B[39;00m anchor_node \u001B[38;5;129;01min\u001B[39;00m anchor_nodes\n\u001B[1;32m     55\u001B[0m     }\n\u001B[1;32m     57\u001B[0m     path_lengths \u001B[38;5;241m=\u001B[39m []\n\u001B[1;32m     59\u001B[0m     anchor_node: \u001B[38;5;28mstr\u001B[39m\n",
      "File \u001B[0;32m~/Projects/masterthesis/experiment/motif_position_tooling/pmotifs/positional_metrics.py:53\u001B[0m, in \u001B[0;36m<dictcomp>\u001B[0;34m(.0)\u001B[0m\n\u001B[1;32m     50\u001B[0m \u001B[38;5;28;01mdef\u001B[39;00m \u001B[38;5;21mgraphlet_occurrence_distance_to_nodes\u001B[39m(g: nx\u001B[38;5;241m.\u001B[39mGraph, anchor_nodes: List[\u001B[38;5;28mstr\u001B[39m], group: List[\u001B[38;5;28mstr\u001B[39m]):\n\u001B[1;32m     52\u001B[0m     nodes_shortest_path_lookup \u001B[38;5;241m=\u001B[39m {\n\u001B[0;32m---> 53\u001B[0m         anchor_node: \u001B[43mnx\u001B[49m\u001B[38;5;241;43m.\u001B[39;49m\u001B[43msingle_source_shortest_path_length\u001B[49m\u001B[43m(\u001B[49m\u001B[43mg\u001B[49m\u001B[43m,\u001B[49m\u001B[43m \u001B[49m\u001B[43manchor_node\u001B[49m\u001B[43m)\u001B[49m\n\u001B[1;32m     54\u001B[0m         \u001B[38;5;28;01mfor\u001B[39;00m anchor_node \u001B[38;5;129;01min\u001B[39;00m anchor_nodes\n\u001B[1;32m     55\u001B[0m     }\n\u001B[1;32m     57\u001B[0m     path_lengths \u001B[38;5;241m=\u001B[39m []\n\u001B[1;32m     59\u001B[0m     anchor_node: \u001B[38;5;28mstr\u001B[39m\n",
      "File \u001B[0;32m~/Projects/masterthesis/experiment/motif_position_tooling/.venv/lib/python3.10/site-packages/networkx/algorithms/shortest_paths/unweighted.py:59\u001B[0m, in \u001B[0;36msingle_source_shortest_path_length\u001B[0;34m(G, source, cutoff)\u001B[0m\n\u001B[1;32m     57\u001B[0m     cutoff \u001B[38;5;241m=\u001B[39m \u001B[38;5;28mfloat\u001B[39m(\u001B[38;5;124m\"\u001B[39m\u001B[38;5;124minf\u001B[39m\u001B[38;5;124m\"\u001B[39m)\n\u001B[1;32m     58\u001B[0m nextlevel \u001B[38;5;241m=\u001B[39m {source: \u001B[38;5;241m1\u001B[39m}\n\u001B[0;32m---> 59\u001B[0m \u001B[38;5;28;01mreturn\u001B[39;00m \u001B[38;5;28;43mdict\u001B[39;49m\u001B[43m(\u001B[49m\u001B[43m_single_shortest_path_length\u001B[49m\u001B[43m(\u001B[49m\u001B[43mG\u001B[49m\u001B[38;5;241;43m.\u001B[39;49m\u001B[43madj\u001B[49m\u001B[43m,\u001B[49m\u001B[43m \u001B[49m\u001B[43mnextlevel\u001B[49m\u001B[43m,\u001B[49m\u001B[43m \u001B[49m\u001B[43mcutoff\u001B[49m\u001B[43m)\u001B[49m\u001B[43m)\u001B[49m\n",
      "File \u001B[0;32m~/Projects/masterthesis/experiment/motif_position_tooling/.venv/lib/python3.10/site-packages/networkx/algorithms/shortest_paths/unweighted.py:86\u001B[0m, in \u001B[0;36m_single_shortest_path_length\u001B[0;34m(adj, firstlevel, cutoff)\u001B[0m\n\u001B[1;32m     84\u001B[0m     \u001B[38;5;28;01mif\u001B[39;00m v \u001B[38;5;129;01mnot\u001B[39;00m \u001B[38;5;129;01min\u001B[39;00m seen:\n\u001B[1;32m     85\u001B[0m         seen[v] \u001B[38;5;241m=\u001B[39m level  \u001B[38;5;66;03m# set the level of vertex v\u001B[39;00m\n\u001B[0;32m---> 86\u001B[0m         \u001B[43mfound\u001B[49m\u001B[38;5;241;43m.\u001B[39;49m\u001B[43mappend\u001B[49m\u001B[43m(\u001B[49m\u001B[43mv\u001B[49m\u001B[43m)\u001B[49m\n\u001B[1;32m     87\u001B[0m         \u001B[38;5;28;01myield\u001B[39;00m (v, level)\n\u001B[1;32m     88\u001B[0m \u001B[38;5;28;01mif\u001B[39;00m \u001B[38;5;28mlen\u001B[39m(seen) \u001B[38;5;241m==\u001B[39m n:\n",
      "\u001B[0;31mKeyboardInterrupt\u001B[0m: "
     ]
    }
   ],
   "source": [
    "\"\"\"Positional Metrics\"\"\"\n",
    "import json\n",
    "\n",
    "from pmotifs.positional_metrics import calculate_metrics\n",
    "\n",
    "\n",
    "if pmotif_graph.get_graphlet_metric_file(graphlet_size).is_file():\n",
    "    data = pmotif_graph.load_graphlet_metric_file(graphlet_size)\n",
    "    # JSON stores keys as str, change them back to int\n",
    "    data[\"motif_data\"] = {int(k): v for k,v in data[\"motif_data\"].items()}\n",
    "else:\n",
    "    # This can take an even longer time\n",
    "    data = calculate_metrics(pmotif_graph, graphlet_size)\n",
    "    with open(pmotif_graph.get_graphlet_metric_json(graphlet_size), \"w\") as f:\n",
    "        json.dump(data, f)\n",
    "    "
   ]
  },
  {
   "cell_type": "markdown",
   "id": "031499ad",
   "metadata": {},
   "source": [
    "# Part 2 : Graphlet Analyses"
   ]
  },
  {
   "cell_type": "code",
   "execution_count": null,
   "id": "0f396450",
   "metadata": {},
   "outputs": [],
   "source": [
    "\"\"\"Load Motifs and Positional Metrics\"\"\"\n",
    "import pandas as pd\n",
    "\n",
    "from motif_position_tooling.utils.motif_io import load_motif_zip\n",
    "\n",
    "\n",
    "motif_pos_lookup = load_motif_zip(motif_graph.get_motif_pos_zip(motif_size))\n",
    "\n",
    "motif_data = []\n",
    "for i, (motif_id, motif_nodes) in enumerate(motif_pos_lookup):\n",
    "    degree = data[\"motif_data\"][i][1][\"motif_degree\"]\n",
    "\n",
    "    motif_data.append({\n",
    "        \"index\": i,\n",
    "        \"motif_id\": motif_id,\n",
    "        \"motif_nodes\": motif_nodes,\n",
    "        \"degree\": degree,\n",
    "    })\n",
    "    \n",
    "df = pd.DataFrame(motif_data).set_index(\"index\")\n",
    "df"
   ]
  },
  {
   "cell_type": "code",
   "execution_count": null,
   "id": "38b43620",
   "metadata": {},
   "outputs": [],
   "source": []
  },
  {
   "cell_type": "code",
   "execution_count": null,
   "id": "12adb48d",
   "metadata": {},
   "outputs": [],
   "source": [
    "\"\"\"Plot Degree Distribution of each motif_id\"\"\"\n",
    "import matplotlib.pyplot as plt\n",
    "from collections import defaultdict\n",
    "\n",
    "from motif_position_tooling.utils.motif_representation import MOTIF_NAME_LOOKUP\n",
    "\n",
    "\n",
    "def to_count(l):\n",
    "    counts = defaultdict(int)\n",
    "    for e in l:\n",
    "        counts[e] += 1\n",
    "    return counts        \n",
    "        \n",
    "\n",
    "degrees_per_motif_id = df.groupby(\"motif_id\").agg(list)[\"degree\"]\n",
    "motif_ids = degrees_per_motif_id.index\n",
    "\n",
    "fig, axes = plt.subplots(1, len(motif_ids), figsize=(20, 5))\n",
    "\n",
    "for i, m_id in enumerate(motif_ids):\n",
    "    freq = to_count(degrees_per_motif_id[m_id])\n",
    "    axes[i].bar(freq.keys(), freq.values())\n",
    "    axes[i].set_title(MOTIF_NAME_LOOKUP[m_id])\n",
    "    axes[i].set_xticks(range(max(freq.keys())))\n",
    "    axes[i].set_xticklabels([i if not i % 2 else \"\" for i in range(max(freq.keys()))], rotation=45)\n",
    "    \n",
    "    axes[i].set_xlabel(\"Degree\")\n",
    "    axes[i].set_ylabel(\"#\")\n",
    "    "
   ]
  },
  {
   "cell_type": "code",
   "execution_count": null,
   "id": "d5b6830b",
   "metadata": {},
   "outputs": [],
   "source": [
    "fig, ax = plt.subplots(1,1)\n",
    "\n",
    "for i, m_id in enumerate(motif_ids):\n",
    "    freq = to_count(degrees_per_motif_id[m_id])\n",
    "    ax.bar(freq.keys(), freq.values(), label=m_id)\n",
    "ax.set_yscale(\"log\")\n",
    "ax.legend()"
   ]
  },
  {
   "cell_type": "markdown",
   "id": "d354f1a6",
   "metadata": {},
   "source": [
    "It can be seen that the degree of the 3-Dash occurences is vastly higher than the degree of the triangle occurrences. As any triangle can be turned to a 3-Dash by removing one edge, the histogram of \"Triangle\" is contained in the \"3-Dash\" histogram.\n",
    "\n",
    "Despite this fact, this histogram suggests that the most connected graphlet is the 3-Dash, especially the most connected parts of the graph are 3-Dash occurrences.\n",
    "\n",
    "This histogram already suggests that a few trianlge occurences are significantly more connected than other triangle occurences."
   ]
  },
  {
   "cell_type": "markdown",
   "id": "14aa935d",
   "metadata": {},
   "source": [
    "Local Outlier Factor\n",
    "PCA\n",
    "Isolation Forest\n"
   ]
  }
 ],
 "metadata": {
  "kernelspec": {
   "display_name": "masterthesis",
   "language": "python",
   "name": "masterthesis"
  },
  "language_info": {
   "codemirror_mode": {
    "name": "ipython",
    "version": 3
   },
   "file_extension": ".py",
   "mimetype": "text/x-python",
   "name": "python",
   "nbconvert_exporter": "python",
   "pygments_lexer": "ipython3",
   "version": "3.10.6"
  }
 },
 "nbformat": 4,
 "nbformat_minor": 5
}
