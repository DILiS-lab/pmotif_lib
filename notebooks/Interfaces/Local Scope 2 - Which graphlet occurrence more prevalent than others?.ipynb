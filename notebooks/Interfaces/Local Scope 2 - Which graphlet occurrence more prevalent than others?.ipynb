{
 "cells": [
  {
   "cell_type": "code",
   "execution_count": 1,
   "id": "cd22eefd",
   "metadata": {},
   "outputs": [],
   "source": [
    "# Loading of Env Vars to enable parameterized command line usage\n",
    "import os\n",
    "\n",
    "GRAPHLET_SIZE = int(os.environ.get('GRAPHLET_SIZE', 3))\n",
    "DATASET = os.environ.get('DATASET', \"yeastInter_st.txt\")\n",
    "EXPERIMENT_OUT = os.environ.get('EXPERIMENT_OUT', \"yeastInter_st\")\n",
    "METRIC_NAME = os.environ.get('METRIC_NAME', \"degree\")"
   ]
  },
  {
   "cell_type": "code",
   "execution_count": 2,
   "id": "e80a8362",
   "metadata": {},
   "outputs": [],
   "source": [
    "from pmotifs.analysis_utilities.metric_consolidation import metrics\n",
    "\n",
    "potential_metrics = metrics.keys()\n",
    "assert METRIC_NAME in potential_metrics"
   ]
  },
  {
   "cell_type": "code",
   "execution_count": 3,
   "id": "1418de56",
   "metadata": {},
   "outputs": [
    {
     "ename": "FileNotFoundError",
     "evalue": "[Errno 2] No such file or directory: '/home/timgarrels/Projects/masterthesis/output/yeastInter_st/yeastInter_st.txt_motifs/3/motif_freq'",
     "output_type": "error",
     "traceback": [
      "\u001B[0;31m---------------------------------------------------------------------------\u001B[0m",
      "\u001B[0;31mFileNotFoundError\u001B[0m                         Traceback (most recent call last)",
      "Cell \u001B[0;32mIn[3], line 4\u001B[0m\n\u001B[1;32m      1\u001B[0m \u001B[38;5;28;01mfrom\u001B[39;00m \u001B[38;5;21;01mpmotifs\u001B[39;00m\u001B[38;5;21;01m.\u001B[39;00m\u001B[38;5;21;01manalysis_utilities\u001B[39;00m\u001B[38;5;21;01m.\u001B[39;00m\u001B[38;5;21;01mloading\u001B[39;00m \u001B[38;5;28;01mimport\u001B[39;00m Result\n\u001B[1;32m      2\u001B[0m \u001B[38;5;28;01mfrom\u001B[39;00m \u001B[38;5;21;01mpmotifs\u001B[39;00m\u001B[38;5;21;01m.\u001B[39;00m\u001B[38;5;21;01mconfig\u001B[39;00m \u001B[38;5;28;01mimport\u001B[39;00m config\n\u001B[0;32m----> 4\u001B[0m r \u001B[38;5;241m=\u001B[39m \u001B[43mResult\u001B[49m\u001B[38;5;241;43m.\u001B[39;49m\u001B[43mload_result\u001B[49m\u001B[43m(\u001B[49m\n\u001B[1;32m      5\u001B[0m \u001B[43m    \u001B[49m\u001B[43mconfig\u001B[49m\u001B[38;5;241;43m.\u001B[39;49m\u001B[43mDATASET_DIRECTORY\u001B[49m\u001B[43m \u001B[49m\u001B[38;5;241;43m/\u001B[39;49m\u001B[43m  \u001B[49m\u001B[43mDATASET\u001B[49m\u001B[43m,\u001B[49m\n\u001B[1;32m      6\u001B[0m \u001B[43m    \u001B[49m\u001B[43mconfig\u001B[49m\u001B[38;5;241;43m.\u001B[39;49m\u001B[43mEXPERIMENT_OUT\u001B[49m\u001B[43m \u001B[49m\u001B[38;5;241;43m/\u001B[39;49m\u001B[43m \u001B[49m\u001B[43mEXPERIMENT_OUT\u001B[49m\u001B[43m,\u001B[49m\n\u001B[1;32m      7\u001B[0m \u001B[43m    \u001B[49m\u001B[43mGRAPHLET_SIZE\u001B[49m\u001B[43m,\u001B[49m\n\u001B[1;32m      8\u001B[0m \u001B[43m)\u001B[49m\n\u001B[1;32m     10\u001B[0m g \u001B[38;5;241m=\u001B[39m r\u001B[38;5;241m.\u001B[39mpmotif_graph\n\u001B[1;32m     11\u001B[0m df \u001B[38;5;241m=\u001B[39m r\u001B[38;5;241m.\u001B[39mpositional_metric_df\n",
      "File \u001B[0;32m~/Projects/masterthesis/motif_position_tooling/pmotifs/analysis_utilities/loading.py:35\u001B[0m, in \u001B[0;36mResult.load_result\u001B[0;34m(GRAPH_EDGELIST, OUT, GRAPHLET_SIZE, supress_tqdm)\u001B[0m\n\u001B[1;32m     33\u001B[0m \u001B[38;5;250m\u001B[39m\u001B[38;5;124;03m\"\"\"Loads results by building a pgraph from input args\"\"\"\u001B[39;00m\n\u001B[1;32m     34\u001B[0m pgraph \u001B[38;5;241m=\u001B[39m PMotifGraph(GRAPH_EDGELIST, OUT)\n\u001B[0;32m---> 35\u001B[0m \u001B[38;5;28;01mreturn\u001B[39;00m \u001B[43mResult\u001B[49m\u001B[38;5;241;43m.\u001B[39;49m\u001B[43m_load_result\u001B[49m\u001B[43m(\u001B[49m\u001B[43mpgraph\u001B[49m\u001B[43m,\u001B[49m\u001B[43m \u001B[49m\u001B[43mGRAPHLET_SIZE\u001B[49m\u001B[43m,\u001B[49m\u001B[43m \u001B[49m\u001B[43msupress_tqdm\u001B[49m\u001B[43m)\u001B[49m\n",
      "File \u001B[0;32m~/Projects/masterthesis/motif_position_tooling/pmotifs/analysis_utilities/loading.py:40\u001B[0m, in \u001B[0;36mResult._load_result\u001B[0;34m(pgraph, graphlet_size, supress_tqdm)\u001B[0m\n\u001B[1;32m     37\u001B[0m \u001B[38;5;129m@staticmethod\u001B[39m\n\u001B[1;32m     38\u001B[0m \u001B[38;5;28;01mdef\u001B[39;00m \u001B[38;5;21m_load_result\u001B[39m(pgraph: PMotifGraph, graphlet_size: \u001B[38;5;28mint\u001B[39m, supress_tqdm: \u001B[38;5;28mbool\u001B[39m) \u001B[38;5;241m-\u001B[39m\u001B[38;5;241m>\u001B[39m Result:\n\u001B[1;32m     39\u001B[0m \u001B[38;5;250m    \u001B[39m\u001B[38;5;124;03m\"\"\"Loads results for a given pgraph\"\"\"\u001B[39;00m\n\u001B[0;32m---> 40\u001B[0m     g_p \u001B[38;5;241m=\u001B[39m \u001B[43mpgraph\u001B[49m\u001B[38;5;241;43m.\u001B[39;49m\u001B[43mload_graphlet_pos_zip\u001B[49m\u001B[43m(\u001B[49m\n\u001B[1;32m     41\u001B[0m \u001B[43m        \u001B[49m\u001B[43mgraphlet_size\u001B[49m\u001B[43m,\u001B[49m\n\u001B[1;32m     42\u001B[0m \u001B[43m        \u001B[49m\u001B[43msupress_tqdm\u001B[49m\n\u001B[1;32m     43\u001B[0m \u001B[43m    \u001B[49m\u001B[43m)\u001B[49m\n\u001B[1;32m     44\u001B[0m     g_pm \u001B[38;5;241m=\u001B[39m pgraph\u001B[38;5;241m.\u001B[39mload_positional_metrics(\n\u001B[1;32m     45\u001B[0m         graphlet_size,\n\u001B[1;32m     46\u001B[0m         supress_tqdm\n\u001B[1;32m     47\u001B[0m     )\n\u001B[1;32m     48\u001B[0m     graphlet_lookup \u001B[38;5;241m=\u001B[39m \u001B[38;5;28mdict\u001B[39m(\u001B[38;5;28mzip\u001B[39m(g_p, g_pm\u001B[38;5;241m.\u001B[39mgraphlet_metrics))\n",
      "File \u001B[0;32m~/Projects/masterthesis/motif_position_tooling/pmotifs/PMotifGraph.py:53\u001B[0m, in \u001B[0;36mPMotifGraph.load_graphlet_pos_zip\u001B[0;34m(self, graphlet_size, supress_tqdm)\u001B[0m\n\u001B[1;32m     51\u001B[0m \u001B[38;5;28;01mdef\u001B[39;00m \u001B[38;5;21mload_graphlet_pos_zip\u001B[39m(\u001B[38;5;28mself\u001B[39m, graphlet_size: \u001B[38;5;28mint\u001B[39m, supress_tqdm: \u001B[38;5;28mbool\u001B[39m \u001B[38;5;241m=\u001B[39m \u001B[38;5;28;01mFalse\u001B[39;00m) \u001B[38;5;241m-\u001B[39m\u001B[38;5;241m>\u001B[39m List[GraphletOccurrence]:\n\u001B[1;32m     52\u001B[0m \u001B[38;5;250m    \u001B[39m\u001B[38;5;124;03m\"\"\"Returns all motifs in a lookup from their index to their id (adj matrix string) and a list of their nodes\"\"\"\u001B[39;00m\n\u001B[0;32m---> 53\u001B[0m     graphlet_count \u001B[38;5;241m=\u001B[39m \u001B[38;5;28msum\u001B[39m(\u001B[38;5;28;43mself\u001B[39;49m\u001B[38;5;241;43m.\u001B[39;49m\u001B[43mload_graphlet_freq_file\u001B[49m\u001B[43m(\u001B[49m\u001B[43mgraphlet_size\u001B[49m\u001B[43m)\u001B[49m\u001B[38;5;241m.\u001B[39mvalues())\n\u001B[1;32m     55\u001B[0m     \u001B[38;5;28;01mwith\u001B[39;00m zipfile\u001B[38;5;241m.\u001B[39mZipFile(\u001B[38;5;28mself\u001B[39m\u001B[38;5;241m.\u001B[39mget_graphlet_pos_zip(graphlet_size), \u001B[38;5;124m'\u001B[39m\u001B[38;5;124mr\u001B[39m\u001B[38;5;124m'\u001B[39m) \u001B[38;5;28;01mas\u001B[39;00m zfile:\n\u001B[1;32m     56\u001B[0m         graphlets \u001B[38;5;241m=\u001B[39m []\n",
      "File \u001B[0;32m~/Projects/masterthesis/motif_position_tooling/pmotifs/PMotifGraph.py:46\u001B[0m, in \u001B[0;36mPMotifGraph.load_graphlet_freq_file\u001B[0;34m(self, graphlet_size)\u001B[0m\n\u001B[1;32m     44\u001B[0m \u001B[38;5;28;01mdef\u001B[39;00m \u001B[38;5;21mload_graphlet_freq_file\u001B[39m(\u001B[38;5;28mself\u001B[39m, graphlet_size: \u001B[38;5;28mint\u001B[39m) \u001B[38;5;241m-\u001B[39m\u001B[38;5;241m>\u001B[39m Dict[\u001B[38;5;28mstr\u001B[39m, \u001B[38;5;28mint\u001B[39m]:\n\u001B[1;32m     45\u001B[0m \u001B[38;5;250m    \u001B[39m\u001B[38;5;124;03m\"\"\"Return a lookup from graphlet-class to count of graphlet-occurrence\"\"\"\u001B[39;00m\n\u001B[0;32m---> 46\u001B[0m     \u001B[38;5;28;01mreturn\u001B[39;00m \u001B[43mparsing\u001B[49m\u001B[38;5;241;43m.\u001B[39;49m\u001B[43mparse_graphlet_detection_results_table\u001B[49m\u001B[43m(\u001B[49m\u001B[38;5;28;43mself\u001B[39;49m\u001B[38;5;241;43m.\u001B[39;49m\u001B[43mget_graphlet_freq_file\u001B[49m\u001B[43m(\u001B[49m\u001B[43mgraphlet_size\u001B[49m\u001B[43m)\u001B[49m\u001B[43m,\u001B[49m\u001B[43m \u001B[49m\u001B[43mgraphlet_size\u001B[49m\u001B[43m)\u001B[49m\n",
      "File \u001B[0;32m~/Projects/masterthesis/motif_position_tooling/pmotifs/gtrieScanner/parsing.py:8\u001B[0m, in \u001B[0;36mparse_graphlet_detection_results_table\u001B[0;34m(frequency_file, k)\u001B[0m\n\u001B[1;32m      5\u001B[0m \u001B[38;5;28;01mdef\u001B[39;00m \u001B[38;5;21mparse_graphlet_detection_results_table\u001B[39m(frequency_file: Path, k: \u001B[38;5;28mint\u001B[39m) \u001B[38;5;241m-\u001B[39m\u001B[38;5;241m>\u001B[39m Dict[\u001B[38;5;28mstr\u001B[39m, \u001B[38;5;28mint\u001B[39m]:\n\u001B[1;32m      6\u001B[0m \u001B[38;5;250m    \u001B[39m\u001B[38;5;124;03m\"\"\"Load a graphlet frequency file created by gtrieScanner\u001B[39;00m\n\u001B[1;32m      7\u001B[0m \u001B[38;5;124;03m    Return a lookup from graphlet-class (adj-matrix) to the number of graphlet-occurrences\"\"\"\u001B[39;00m\n\u001B[0;32m----> 8\u001B[0m     \u001B[38;5;28;01mwith\u001B[39;00m \u001B[38;5;28;43mopen\u001B[39;49m\u001B[43m(\u001B[49m\u001B[43mfrequency_file\u001B[49m\u001B[43m,\u001B[49m\u001B[43m \u001B[49m\u001B[38;5;124;43m\"\u001B[39;49m\u001B[38;5;124;43mr\u001B[39;49m\u001B[38;5;124;43m\"\u001B[39;49m\u001B[43m)\u001B[49m \u001B[38;5;28;01mas\u001B[39;00m f:\n\u001B[1;32m      9\u001B[0m         lines \u001B[38;5;241m=\u001B[39m f\u001B[38;5;241m.\u001B[39mreadlines()\n\u001B[1;32m     10\u001B[0m     table_lines \u001B[38;5;241m=\u001B[39m lines[lines\u001B[38;5;241m.\u001B[39mindex(\u001B[38;5;124m\"\u001B[39m\u001B[38;5;124mMotif Analysis Results\u001B[39m\u001B[38;5;130;01m\\n\u001B[39;00m\u001B[38;5;124m\"\u001B[39m) \u001B[38;5;241m+\u001B[39m \u001B[38;5;241m2\u001B[39m:]\n",
      "\u001B[0;31mFileNotFoundError\u001B[0m: [Errno 2] No such file or directory: '/home/timgarrels/Projects/masterthesis/output/yeastInter_st/yeastInter_st.txt_motifs/3/motif_freq'"
     ]
    }
   ],
   "source": [
    "from pmotifs.analysis_utilities.loading import Result\n",
    "from pmotifs.config import config\n",
    "\n",
    "r = Result.load_result(\n",
    "    config.DATASET_DIRECTORY /  DATASET,\n",
    "    config.EXPERIMENT_OUT / EXPERIMENT_OUT,\n",
    "    GRAPHLET_SIZE,\n",
    ")\n",
    "\n",
    "g = r.pmotif_graph\n",
    "df = r.positional_metric_df"
   ]
  },
  {
   "cell_type": "code",
   "execution_count": null,
   "id": "3f70858e",
   "metadata": {},
   "outputs": [],
   "source": [
    "graphlet_classes = set(df[\"graphlet_class\"])\n",
    "graphlet_classes"
   ]
  },
  {
   "cell_type": "code",
   "execution_count": null,
   "id": "5a180bbe",
   "metadata": {},
   "outputs": [],
   "source": [
    "from typing import Union\n",
    "\n",
    "from pmotifs.GraphletPositionalMetrics import GraphletPositionalMetrics\n",
    "\n",
    "\n",
    "def get_positional_metric(result: Result) -> Union[int, float]:\n",
    "    \"\"\"A wrapper to consolidate metrics\"\"\"\n",
    "    return metrics[METRIC_NAME](result)"
   ]
  },
  {
   "cell_type": "markdown",
   "id": "35014455",
   "metadata": {},
   "source": [
    "# Analysis"
   ]
  },
  {
   "cell_type": "code",
   "execution_count": null,
   "id": "4513f3f6",
   "metadata": {},
   "outputs": [],
   "source": [
    "g.output_directory"
   ]
  },
  {
   "cell_type": "code",
   "execution_count": null,
   "id": "47d5d19f",
   "metadata": {},
   "outputs": [],
   "source": [
    "df[METRIC_NAME] = get_positional_metric(r)"
   ]
  },
  {
   "cell_type": "code",
   "execution_count": null,
   "id": "466b87d3",
   "metadata": {},
   "outputs": [],
   "source": [
    "from statistics import quantiles\n",
    "\n",
    "def elements_in_percentile(elements, percentile, above=True):\n",
    "    elements = sorted(elements)\n",
    "    \n",
    "    percentile_cuts = quantiles(elements, n=100, method=\"inclusive\")\n",
    "    cutoff = percentile_cuts[percentile - 1]\n",
    "\n",
    "    comparator = lambda e: e > cutoff\n",
    "    if not above:\n",
    "        comparator = lambda e: e < cutoff\n",
    "        \n",
    "    return [e for e in elements if comparator(e)]\n"
   ]
  },
  {
   "cell_type": "code",
   "execution_count": null,
   "id": "47bcfd55",
   "metadata": {},
   "outputs": [],
   "source": [
    "import matplotlib.pyplot as plt\n",
    "\n",
    "from pmotifs.graphlet_representation import graphlet_class_to_name\n",
    "\n",
    "\n",
    "fig, axes = plt.subplots(1, len(graphlet_classes), figsize=(len(graphlet_classes) * 5, 5))\n",
    "\n",
    "for i, graphlet_class in enumerate(graphlet_classes):\n",
    "    ax = axes[i]\n",
    "\n",
    "    metric = df[df[\"graphlet_class\"] == graphlet_class][METRIC_NAME]\n",
    "        \n",
    "    percentile_cuts = quantiles(metric, n=100, method=\"inclusive\")\n",
    "    \n",
    "    ax.hist(metric, label=graphlet_class_to_name(graphlet_class))\n",
    "    ax.axvline(percentile_cuts[0], label=f\"<1% ({percentile_cuts[0]})\", color=\"orange\", alpha=0.5)\n",
    "    ax.axvline(percentile_cuts[4], label=f\"<5% ({percentile_cuts[4]})\", color=\"green\", alpha=0.5)\n",
    "    ax.axvline(percentile_cuts[-1], label=f\">99% ({percentile_cuts[-1]})\", color=\"orange\", alpha=0.5)\n",
    "    ax.axvline(percentile_cuts[-5], label=f\">95% ({percentile_cuts[-5]})\", color=\"green\", alpha=0.5)\n",
    "    \n",
    "    \n",
    "    ax.legend()\n",
    "    ax.set_xlabel(METRIC_NAME)\n",
    "    ax.set_ylabel(\"Frequency\")\n",
    "    ax.set_title(graphlet_class_to_name(graphlet_class))"
   ]
  },
  {
   "cell_type": "code",
   "execution_count": null,
   "id": "4487b2db",
   "metadata": {},
   "outputs": [],
   "source": [
    "\"\"\"Prepare Graph Plotting\"\"\"\n",
    "import networkx as nx\n",
    "\n",
    "from pmotifs.analysis_utilities.plotting import get_kamada_kawai_layout\n",
    "\n",
    "pos = get_kamada_kawai_layout(g)\n",
    "nx_g = g.load_graph()"
   ]
  },
  {
   "cell_type": "code",
   "execution_count": null,
   "id": "785a02be",
   "metadata": {},
   "outputs": [],
   "source": [
    "def get_quantile_filters(metric_name, graphlet_df):\n",
    "    metric = graphlet_df[metric_name]\n",
    "    percentile_cuts = quantiles(metric, n=100, method=\"inclusive\")\n",
    "\n",
    "    below_1p = lambda e: e < percentile_cuts[0]\n",
    "    below_5p = lambda e: e < percentile_cuts[4]\n",
    "\n",
    "    above_1p = lambda e: e > percentile_cuts[-1]\n",
    "    above_5p = lambda e: e > percentile_cuts[-5]\n",
    "\n",
    "    return {\n",
    "        \"below_1p\": below_1p,\n",
    "        \"below_5p\": below_5p,\n",
    "        \"above_1p\": above_1p,\n",
    "        \"above_5p\": above_5p,\n",
    "    }"
   ]
  },
  {
   "cell_type": "code",
   "execution_count": null,
   "id": "1fe1654b",
   "metadata": {},
   "outputs": [],
   "source": [
    "def filter_motifs_by_quantile(graphlet_df, quantile_name, quantile_filters=None):\n",
    "    if quantile_filters is None:\n",
    "        quantile_filters = get_quantile_filters(METRIC_NAME, graphlet_df)\n",
    "    \n",
    "    kept_positions = [\n",
    "        quantile_filters[quantile_name](e)\n",
    "        for e in graphlet_df[METRIC_NAME]\n",
    "    ]\n",
    "    \n",
    "    return list(graphlet_df[kept_positions][\"nodes\"])"
   ]
  },
  {
   "cell_type": "code",
   "execution_count": null,
   "id": "314ce142",
   "metadata": {},
   "outputs": [],
   "source": [
    "from pmotifs.graphlet_representation import graphlet_name_to_class\n",
    "from pmotifs.analysis_utilities.plotting import plot_graph_with_motif_highlight\n",
    "\n",
    "\n",
    "def plot_single(graphlet_class_name, quantile_filter_name):\n",
    "    graphlet_class = graphlet_name_to_class(graphlet_class_name)\n",
    "    \n",
    "    graphlet_class_df = df[df[\"graphlet_class\"] == graphlet_class]\n",
    "    \n",
    "    fig, ax= plt.subplots(1, 1, figsize=(10, 10))\n",
    "\n",
    "    interesting_motifs = filter_motifs_by_quantile(\n",
    "        graphlet_class_df,\n",
    "        quantile_filter_name,\n",
    "    )\n",
    "\n",
    "    plot_graph_with_motif_highlight(\n",
    "        nx_g,\n",
    "        interesting_motifs,\n",
    "        pos,\n",
    "        ax,\n",
    "        title=f\"{quantile_filter_name} ({len(interesting_motifs)})\",\n",
    "    )\n",
    "\n",
    "    fig.suptitle(graphlet_class_to_name(graphlet_class))"
   ]
  },
  {
   "cell_type": "code",
   "execution_count": null,
   "id": "d841952c",
   "metadata": {
    "scrolled": false
   },
   "outputs": [],
   "source": [
    "import networkx as nx\n",
    "\n",
    "\n",
    "def plot_quantiles(graphlet_class):\n",
    "    graphlet_class_df = df[df[\"graphlet_class\"] == graphlet_class]\n",
    "\n",
    "    quantile_filters = get_quantile_filters(METRIC_NAME, graphlet_class_df)\n",
    "\n",
    "\n",
    "    fig, axes = plt.subplots(1,len(quantile_filters), figsize=(20,5,))\n",
    "\n",
    "    for i, quantile_filter_name in enumerate(quantile_filters):\n",
    "        ax = axes[i]\n",
    "\n",
    "        interesting_motifs = filter_motifs_by_quantile(\n",
    "            graphlet_class_df,\n",
    "            quantile_filter_name,\n",
    "            quantile_filters=quantile_filters,\n",
    "        )\n",
    "\n",
    "        plot_graph_with_motif_highlight(\n",
    "            nx_g,\n",
    "            interesting_motifs,\n",
    "            pos,\n",
    "            ax,\n",
    "            title=f\"{quantile_filter_name} ({len(interesting_motifs)})\",\n",
    "        )\n",
    "\n",
    "    fig.suptitle(graphlet_class_to_name(graphlet_class))"
   ]
  },
  {
   "cell_type": "code",
   "execution_count": null,
   "id": "5b4d82ae",
   "metadata": {},
   "outputs": [],
   "source": [
    "for graphlet_class in graphlet_classes:\n",
    "    plot_quantiles(graphlet_class)"
   ]
  },
  {
   "cell_type": "code",
   "execution_count": null,
   "id": "135d9206",
   "metadata": {},
   "outputs": [],
   "source": [
    "plot_single(graphlet_class_name=\"3-Dash\", quantile_filter_name=\"below_5p\")"
   ]
  }
 ],
 "metadata": {
  "kernelspec": {
   "display_name": "masterthesis",
   "language": "python",
   "name": "masterthesis"
  },
  "language_info": {
   "codemirror_mode": {
    "name": "ipython",
    "version": 3
   },
   "file_extension": ".py",
   "mimetype": "text/x-python",
   "name": "python",
   "nbconvert_exporter": "python",
   "pygments_lexer": "ipython3",
   "version": "3.10.6"
  }
 },
 "nbformat": 4,
 "nbformat_minor": 5
}
