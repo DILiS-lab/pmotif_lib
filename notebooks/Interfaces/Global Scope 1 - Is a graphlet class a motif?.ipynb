{
 "cells": [
  {
   "cell_type": "code",
   "execution_count": 1,
   "id": "f54e2c08",
   "metadata": {},
   "outputs": [
    {
     "name": "stderr",
     "output_type": "stream",
     "text": [
      "Loading graphlet metrics: 100%|███████| 13150/13150 [00:00<00:00, 157154.94it/s]\n",
      "Loading anchor nodes: 100%|█████████████████| 42/42 [00:00<00:00, 463580.97it/s]\n",
      "Loading anchor node shortest paths: 100%|███| 42/42 [00:00<00:00, 120658.06it/s]\n",
      "Loading graph modules: 100%|████████████████| 27/27 [00:00<00:00, 306900.29it/s]\n"
     ]
    }
   ],
   "source": [
    "from pmotifs.analysis_utilities.loading import Result\n",
    "from pmotifs.config import config\n",
    "\n",
    "GRAPHLET_SIZE = 3\n",
    "\n",
    "r = Result.load_result(\n",
    "    config.DATASET_DIRECTORY /  \"yeastInter_st.txt\",\n",
    "    config.EXPERIMENT_OUT / \"yeastInter_st\",\n",
    "    GRAPHLET_SIZE,\n",
    ")\n",
    "\n",
    "g = r.pmotif_graph\n",
    "df = r.positional_metric_df"
   ]
  },
  {
   "cell_type": "code",
   "execution_count": 2,
   "id": "df3a92b3",
   "metadata": {
    "scrolled": true
   },
   "outputs": [
    {
     "name": "stderr",
     "output_type": "stream",
     "text": [
      "Loading Randomized Results: 100%|██████████| 100/100 [00:00<00:00, 24369.90it/s]\n"
     ]
    }
   ],
   "source": [
    "randomized_results = Result.load_randomized_results(g, GRAPHLET_SIZE, supress_tqdm=True)"
   ]
  },
  {
   "cell_type": "code",
   "execution_count": 3,
   "id": "209b6441",
   "metadata": {},
   "outputs": [],
   "source": [
    "randomized_results = {\n",
    "    r.pmotif_graph: r.positional_metric_df\n",
    "    for r in randomized_results\n",
    "}"
   ]
  },
  {
   "cell_type": "markdown",
   "id": "d1aea310",
   "metadata": {},
   "source": [
    "# Analysis"
   ]
  },
  {
   "cell_type": "code",
   "execution_count": 4,
   "id": "ff2e4457",
   "metadata": {},
   "outputs": [
    {
     "data": {
      "text/plain": [
       "['011 101 110', '011 100 100']"
      ]
     },
     "execution_count": 4,
     "metadata": {},
     "output_type": "execute_result"
    }
   ],
   "source": [
    "from pmotifs.graphlet_representation import GRAPHLET_CLASS_NAME_LOOKUP, get_graphlet_size_from_class\n",
    "\n",
    "def all_graphlet_classes_of_size(graphlet_size: int):\n",
    "    return [\n",
    "        graphlet_class\n",
    "        for graphlet_class in GRAPHLET_CLASS_NAME_LOOKUP.keys()\n",
    "        if get_graphlet_size_from_class(graphlet_class) == graphlet_size\n",
    "    ]\n",
    "all_graphlet_classes_of_size(GRAPHLET_SIZE)"
   ]
  },
  {
   "cell_type": "code",
   "execution_count": 5,
   "id": "3850d25f",
   "metadata": {},
   "outputs": [
    {
     "data": {
      "text/plain": [
       "{'011 101 110': 72, '011 100 100': 13078}"
      ]
     },
     "execution_count": 5,
     "metadata": {},
     "output_type": "execute_result"
    }
   ],
   "source": [
    "from collections import defaultdict\n",
    "\n",
    "# Collect frequencies per class\n",
    "def to_graphlet_class_frequency(result_df):\n",
    "    graphlet_size = get_graphlet_size_from_class(result_df[\"graphlet_class\"][0])\n",
    "    all_frequencies = defaultdict.fromkeys(all_graphlet_classes_of_size(graphlet_size), 0)\n",
    "           \n",
    "    return dict(all_frequencies | dict(result_df.groupby(\"graphlet_class\").agg(\"count\")[\"nodes\"]))\n",
    "\n",
    "to_graphlet_class_frequency(df)"
   ]
  },
  {
   "cell_type": "code",
   "execution_count": 6,
   "id": "c9f3ec38",
   "metadata": {},
   "outputs": [
    {
     "name": "stderr",
     "output_type": "stream",
     "text": [
      "100%|████████████████████████████████████████| 100/100 [00:00<00:00, 297.57it/s]\n"
     ]
    }
   ],
   "source": [
    "from tqdm import tqdm\n",
    "import pandas as pd\n",
    "# Collect graphlet frequencies per random graph in a df\n",
    "# random graph num | graphlet class 1 | graphlet class 2\n",
    "# 1                | 15               | 500\n",
    "# 2                | 600              | 600\n",
    "# ...\n",
    "\n",
    "data = []\n",
    "for random_df in tqdm(randomized_results.values()):\n",
    "    data.append(to_graphlet_class_frequency(random_df))\n",
    "random_frequencies = pd.DataFrame(data)"
   ]
  },
  {
   "cell_type": "code",
   "execution_count": 7,
   "id": "ec4a3ede",
   "metadata": {},
   "outputs": [],
   "source": [
    "from statistics import mean, stdev\n",
    "from typing import List\n",
    "\n",
    "def get_zscore(point: float, values: List[float]):\n",
    "    return (point - mean(values)) / stdev(values)"
   ]
  },
  {
   "cell_type": "code",
   "execution_count": 8,
   "id": "065c4673",
   "metadata": {
    "scrolled": false
   },
   "outputs": [
    {
     "data": {
      "image/png": "[encoded data removed]",
      "text/plain": [
       "<Figure size 1000x500 with 2 Axes>"
      ]
     },
     "metadata": {},
     "output_type": "display_data"
    }
   ],
   "source": [
    "import matplotlib.pyplot as plt\n",
    "\n",
    "fig, axes = plt.subplots(1, len(all_graphlet_classes_of_size(GRAPHLET_SIZE)), figsize=(10,5))\n",
    "\n",
    "original_frequencies = to_graphlet_class_frequency(df)\n",
    "    \n",
    "for i, graphlet_class in enumerate(all_graphlet_classes_of_size(GRAPHLET_SIZE)):\n",
    "    ax = axes[i]\n",
    "    \n",
    "    original_value = original_frequencies[graphlet_class]\n",
    "    distribution = random_frequencies[graphlet_class]\n",
    "    z_score = get_zscore(original_value, distribution)\n",
    "    \n",
    "    distribution.plot.hist(ax=ax, label=\"Expected Distribution\")\n",
    "    \n",
    "    ax.axvline(original_value, color=\"tab:orange\", label=f\"Original (zscore={round(z_score, 2)})\")\n",
    "    ax.set_title(GRAPHLET_CLASS_NAME_LOOKUP[graphlet_class])\n",
    "    ax.legend(loc=\"upper right\")"
   ]
  }
 ],
 "metadata": {
  "kernelspec": {
   "display_name": "masterthesis",
   "language": "python",
   "name": "masterthesis"
  },
  "language_info": {
   "codemirror_mode": {
    "name": "ipython",
    "version": 3
   },
   "file_extension": ".py",
   "mimetype": "text/x-python",
   "name": "python",
   "nbconvert_exporter": "python",
   "pygments_lexer": "ipython3",
   "version": "3.10.6"
  }
 },
 "nbformat": 4,
 "nbformat_minor": 5
}
