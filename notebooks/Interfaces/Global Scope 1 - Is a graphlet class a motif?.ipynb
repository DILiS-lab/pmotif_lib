{
 "cells": [
  {
   "cell_type": "code",
   "execution_count": 1,
   "id": "5c210b86",
   "metadata": {},
   "outputs": [],
   "source": [
    "# Loading of Env Vars to enable parameterized command line usage\n",
    "import os\n",
    "\n",
    "GRAPHLET_SIZE = int(os.environ.get('GRAPHLET_SIZE', 3))\n",
    "DATASET = os.environ.get('DATASET', \"yeastInter_st.txt\")\n",
    "EXPERIMENT_OUT = os.environ.get('EXPERIMENT_OUT', \"yeastInter_st\")\n",
    "METRIC_NAME = os.environ.get('METRIC_NAME', \"degree\")"
   ]
  },
  {
   "cell_type": "code",
   "execution_count": 2,
   "id": "36d2b870",
   "metadata": {},
   "outputs": [],
   "source": [
    "from pmotifs.analysis_utilities.metric_consolidation import metrics\n",
    "\n",
    "potential_metrics = metrics.keys()\n",
    "assert METRIC_NAME in potential_metrics"
   ]
  },
  {
   "cell_type": "code",
   "execution_count": 3,
   "id": "f54e2c08",
   "metadata": {},
   "outputs": [
    {
     "name": "stderr",
     "output_type": "stream",
     "text": [
      "Loading graphlet metrics: 100%|█████████████████████████████████| 13150/13150 [00:00<00:00, 157420.48it/s]\n",
      "Loading anchor nodes: 100%|████████████████████████████████████████████| 42/42 [00:00<00:00, 96210.14it/s]\n",
      "Loading anchor node shortest paths: 100%|█████████████████████████████| 42/42 [00:00<00:00, 124144.30it/s]\n",
      "Loading graph modules: 100%|██████████████████████████████████████████| 27/27 [00:00<00:00, 190010.42it/s]\n"
     ]
    }
   ],
   "source": [
    "from pmotifs.analysis_utilities.loading import Result\n",
    "from pmotifs.config import config\n",
    "\n",
    "r = Result.load_result(\n",
    "    config.DATASET_DIRECTORY /  DATASET,\n",
    "    config.EXPERIMENT_OUT / EXPERIMENT_OUT,\n",
    "    GRAPHLET_SIZE,\n",
    ")\n",
    "\n",
    "g = r.pmotif_graph\n",
    "df = r.positional_metric_df"
   ]
  },
  {
   "cell_type": "code",
   "execution_count": 4,
   "id": "8e50b557",
   "metadata": {},
   "outputs": [
    {
     "name": "stdout",
     "output_type": "stream",
     "text": [
      "Help on PMotifGraph in module pmotifs.PMotifGraph object:\n",
      "\n",
      "class PMotifGraph(builtins.object)\n",
      " |  PMotifGraph(edgelist_path: pathlib.Path, output_directory: pathlib.Path)\n",
      " |  \n",
      " |  An Object wrapper around the folder structure of a graph which is subject to pmotif detection\n",
      " |  \n",
      " |  Methods defined here:\n",
      " |  \n",
      " |  __init__(self, edgelist_path: pathlib.Path, output_directory: pathlib.Path)\n",
      " |      Initialize self.  See help(type(self)) for accurate signature.\n",
      " |  \n",
      " |  get_graph_path(self) -> pathlib.Path\n",
      " |  \n",
      " |  get_graphlet_directory(self) -> pathlib.Path\n",
      " |  \n",
      " |  get_graphlet_freq_file(self, graphlet_size: int) -> pathlib.Path\n",
      " |  \n",
      " |  get_graphlet_output_directory(self, graphlet_size: int) -> pathlib.Path\n",
      " |  \n",
      " |  get_graphlet_pos_zip(self, graphlet_size: int) -> pathlib.Path\n",
      " |  \n",
      " |  get_positional_data_directory(self, graphlet_size: int) -> pathlib.Path\n",
      " |  \n",
      " |  load_graph(self) -> networkx.classes.graph.Graph\n",
      " |  \n",
      " |  load_graphlet_freq_file(self, graphlet_size: int) -> Dict[str, int]\n",
      " |      Return a lookup from graphlet-class to count of graphlet-occurrence\n",
      " |  \n",
      " |  load_graphlet_pos_zip(self, graphlet_size: int, supress_tqdm: bool = False) -> List[pmotifs.GraphletOccurence.GraphletOccurrence]\n",
      " |      Returns all motifs in a lookup from their index to their id (adj matrix string) and a list of their nodes\n",
      " |  \n",
      " |  load_positional_meta(self, graphlet_size: int, supress_tqdm: bool = False) -> pmotifs.PositionalMetricMeta.PositionalMetricMeta\n",
      " |  \n",
      " |  load_positional_metrics(self, graphlet_size: int, supress_tqdm: bool = False) -> pmotifs.GraphletPositionalMetrics.GraphPositionalMetrics\n",
      " |  \n",
      " |  ----------------------------------------------------------------------\n",
      " |  Data descriptors defined here:\n",
      " |  \n",
      " |  __dict__\n",
      " |      dictionary for instance variables (if defined)\n",
      " |  \n",
      " |  __weakref__\n",
      " |      list of weak references to the object (if defined)\n",
      "\n"
     ]
    }
   ],
   "source": [
    "help(g)"
   ]
  },
  {
   "cell_type": "code",
   "execution_count": null,
   "id": "df3a92b3",
   "metadata": {
    "scrolled": true
   },
   "outputs": [
    {
     "name": "stderr",
     "output_type": "stream",
     "text": [
      "Loading Randomized Results: 100%|█████████████████████████████████████| 1000/1000 [00:37<00:00, 26.44it/s]\n"
     ]
    }
   ],
   "source": [
    "randomized_results = Result.load_randomized_results(g, GRAPHLET_SIZE, supress_tqdm=True)"
   ]
  },
  {
   "cell_type": "code",
   "execution_count": null,
   "id": "209b6441",
   "metadata": {},
   "outputs": [],
   "source": [
    "randomized_results = {\n",
    "    r.pmotif_graph: r.positional_metric_df\n",
    "    for r in randomized_results\n",
    "}"
   ]
  },
  {
   "cell_type": "markdown",
   "id": "d1aea310",
   "metadata": {},
   "source": [
    "# Analysis"
   ]
  },
  {
   "cell_type": "code",
   "execution_count": null,
   "id": "ff2e4457",
   "metadata": {},
   "outputs": [],
   "source": [
    "from pmotifs.graphlet_representation import GRAPHLET_CLASS_NAME_LOOKUP, get_graphlet_size_from_class\n",
    "\n",
    "def all_graphlet_classes_of_size(graphlet_size: int):\n",
    "    return [\n",
    "        graphlet_class\n",
    "        for graphlet_class in GRAPHLET_CLASS_NAME_LOOKUP.keys()\n",
    "        if get_graphlet_size_from_class(graphlet_class) == graphlet_size\n",
    "    ]\n",
    "all_graphlet_classes_of_size(GRAPHLET_SIZE)"
   ]
  },
  {
   "cell_type": "code",
   "execution_count": null,
   "id": "3850d25f",
   "metadata": {},
   "outputs": [],
   "source": [
    "from collections import defaultdict\n",
    "\n",
    "# Collect frequencies per class\n",
    "def to_graphlet_class_frequency(result_df):\n",
    "    graphlet_size = get_graphlet_size_from_class(result_df[\"graphlet_class\"][0])\n",
    "    all_frequencies = defaultdict.fromkeys(all_graphlet_classes_of_size(graphlet_size), 0)\n",
    "           \n",
    "    return dict(dict(all_frequencies) | dict(result_df.groupby(\"graphlet_class\").agg(\"count\")[\"nodes\"]))\n",
    "\n",
    "to_graphlet_class_frequency(df)"
   ]
  },
  {
   "cell_type": "code",
   "execution_count": null,
   "id": "c9f3ec38",
   "metadata": {},
   "outputs": [],
   "source": [
    "from tqdm import tqdm\n",
    "import pandas as pd\n",
    "# Collect graphlet frequencies per random graph in a df\n",
    "# random graph num | graphlet class 1 | graphlet class 2\n",
    "# 1                | 15               | 500\n",
    "# 2                | 600              | 600\n",
    "# ...\n",
    "\n",
    "data = []\n",
    "for random_df in tqdm(randomized_results.values()):\n",
    "    data.append(to_graphlet_class_frequency(random_df))\n",
    "random_frequencies = pd.DataFrame(data)"
   ]
  },
  {
   "cell_type": "code",
   "execution_count": null,
   "id": "ec4a3ede",
   "metadata": {},
   "outputs": [],
   "source": [
    "from statistics import mean, stdev\n",
    "from typing import List\n",
    "\n",
    "def get_zscore(point: float, values: List[float]):\n",
    "    return (point - mean(values)) / stdev(values)"
   ]
  },
  {
   "cell_type": "code",
   "execution_count": null,
   "id": "065c4673",
   "metadata": {
    "scrolled": false
   },
   "outputs": [],
   "source": [
    "import matplotlib.pyplot as plt\n",
    "\n",
    "fig, axes = plt.subplots(1, len(all_graphlet_classes_of_size(GRAPHLET_SIZE)), figsize=(10,5))\n",
    "\n",
    "original_frequencies = to_graphlet_class_frequency(df)\n",
    "    \n",
    "for i, graphlet_class in enumerate(all_graphlet_classes_of_size(GRAPHLET_SIZE)):\n",
    "    ax = axes[i]\n",
    "    \n",
    "    original_value = original_frequencies[graphlet_class]\n",
    "    distribution = random_frequencies[graphlet_class]\n",
    "    z_score = get_zscore(original_value, distribution)\n",
    "    \n",
    "    distribution.plot.hist(ax=ax, label=\"Expected Distribution\")\n",
    "    \n",
    "    ax.axvline(original_value, color=\"tab:orange\", label=f\"Original (zscore={round(z_score, 2)})\")\n",
    "    ax.set_title(GRAPHLET_CLASS_NAME_LOOKUP[graphlet_class])\n",
    "    ax.legend(loc=\"upper right\")"
   ]
  }
 ],
 "metadata": {
  "kernelspec": {
   "display_name": "masterthesis",
   "language": "python",
   "name": "masterthesis"
  },
  "language_info": {
   "codemirror_mode": {
    "name": "ipython",
    "version": 3
   },
   "file_extension": ".py",
   "mimetype": "text/x-python",
   "name": "python",
   "nbconvert_exporter": "python",
   "pygments_lexer": "ipython3",
   "version": "3.10.6"
  }
 },
 "nbformat": 4,
 "nbformat_minor": 5
}
