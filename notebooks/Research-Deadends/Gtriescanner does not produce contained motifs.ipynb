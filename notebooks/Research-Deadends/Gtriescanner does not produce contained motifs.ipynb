{
 "cells": [
  {
   "cell_type": "code",
   "execution_count": 1,
   "id": "2c65ad89",
   "metadata": {},
   "outputs": [],
   "source": [
    "from motif_position_tooling.config import GTRIESCANNER_EXECUTABLE"
   ]
  },
  {
   "cell_type": "code",
   "execution_count": 2,
   "id": "97e76cd9",
   "metadata": {},
   "outputs": [],
   "source": [
    "from motif_position_tooling.gtrieScanner import wrapper"
   ]
  },
  {
   "cell_type": "code",
   "execution_count": 11,
   "id": "285d2bf0",
   "metadata": {},
   "outputs": [],
   "source": [
    "from pathlib import Path\n",
    "from os import makedirs\n",
    "\n",
    "\n",
    "out = Path(\"temp\")\n",
    "makedirs(out, exist_ok=True)\n",
    "\n",
    "TEMP_EDGELIST = out / \"temp.edgelist\"\n",
    "with open(TEMP_EDGELIST, \"w\") as f:\n",
    "    # Square\n",
    "    f.write(\"1 2\\n\")\n",
    "    f.write(\"2 3\\n\")\n",
    "    f.write(\"3 4\\n\")\n",
    "    f.write(\"4 1\\n\")\n",
    "    # Cross\n",
    "    f.write(\"1 3\\n\")\n",
    "    f.write(\"2 4\\n\")\n",
    "\n",
    "\n",
    "wrapper.run_gtrieScanner(\n",
    "    graph_edgelist=TEMP_EDGELIST,\n",
    "    motif_size=4,\n",
    "    output_directory=out,\n",
    "    gtrieScanner_executable=GTRIESCANNER_EXECUTABLE,\n",
    ")"
   ]
  },
  {
   "cell_type": "code",
   "execution_count": null,
   "id": "ebbb3034",
   "metadata": {},
   "outputs": [],
   "source": [
    "with open "
   ]
  }
 ],
 "metadata": {
  "kernelspec": {
   "display_name": "masterthesis",
   "language": "python",
   "name": "masterthesis"
  },
  "language_info": {
   "codemirror_mode": {
    "name": "ipython",
    "version": 3
   },
   "file_extension": ".py",
   "mimetype": "text/x-python",
   "name": "python",
   "nbconvert_exporter": "python",
   "pygments_lexer": "ipython3",
   "version": "3.10.6"
  }
 },
 "nbformat": 4,
 "nbformat_minor": 5
}
