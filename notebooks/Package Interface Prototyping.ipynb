{
 "cells": [
  {
   "cell_type": "code",
   "execution_count": null,
   "id": "d539a3da",
   "metadata": {},
   "outputs": [],
   "source": [
    "\"\"\"Simple graphlet detection\"\"\"\n",
    "from pmotif_lib import PMetricController\n",
    "\n",
    "\n",
    "g = nx.read_edgelist(\"...\")\n",
    "\n",
    "controller = PMetricController(on_disk=\"~/pmotif_experiments\")  # Results will be stored and loaded from here\n",
    "\n",
    "graphlets = controller.graphlet_detection(g, graphlet_size=3)"
   ]
  },
  {
   "cell_type": "code",
   "execution_count": null,
   "id": "08fdc671",
   "metadata": {},
   "outputs": [],
   "source": [
    "\"\"\"Local PMetric Calculation\"\"\"\n",
    "from pmotif_lib import PMetric, PMetricController\n",
    "\n",
    "\n",
    "# Create a custom metric\n",
    "class CustomMetric(PMetric):\n",
    "    \n",
    "    def pre_compute(g: nx.Graph) -> Dict[]:\n",
    "        return {\"precompute_1\": \"abc\", \"precompute_2\": g.nodes}\n",
    "\n",
    "    def calculate(g: nx.Graph, occurrence_nodes: List[int]) -> float:\n",
    "        return 0.01\n",
    "    \n",
    "# Use a in-built metric\n",
    "degree = PMetric.DegreeMetric()\n",
    "\n",
    "# Setup Calculation\n",
    "controller = PMetricController(on_disk=\"~/pmotif_experiments\")  # Results will be stored and loaded from here\n",
    "\n",
    "g = nx.read_edgelist(\"...\")\n",
    "\n",
    "graphlet_metric_lookup = controller.p_graphlet_detection(\n",
    "    g,\n",
    "    graphlet_size=3,\n",
    "    metrics=[CustomMetric(), PMetric.DegreeMetric()]\n",
    ")"
   ]
  },
  {
   "cell_type": "code",
   "execution_count": null,
   "id": "7ba319d1",
   "metadata": {},
   "outputs": [],
   "source": [
    "\"\"\"Global graphlet detection (=motif detection)\"\"\"\n",
    "from pmotif_lib import PMetric, PMetricController\n",
    "\n",
    "g = nx.read_edgelist(\"...\")\n",
    "\n",
    "controller = PMetricController(on_disk=\"~/pmotif_experiments\")  # Results will be stored and loaded from here\n",
    "\n",
    "original_graphlets, random_graphlets = controller.motif_detection(g, random_graphs=1000, method=\"edge_swap\")"
   ]
  },
  {
   "cell_type": "code",
   "execution_count": null,
   "id": "f28209c6",
   "metadata": {},
   "outputs": [],
   "source": [
    "\"\"\"Global PMetric Calculation (=p_motif detection)\"\"\"\n",
    "\"\"\"Local PMetric Calculation\"\"\"\n",
    "from pmotif_lib import PMetric, PMetricController\n",
    "\n",
    "\n",
    "# Create a custom metric\n",
    "class CustomMetric(PMetric):\n",
    "    \n",
    "    def pre_compute(g: nx.Graph) -> Dict[]:\n",
    "        return {\"precompute_1\": \"abc\", \"precompute_2\": g.nodes}\n",
    "\n",
    "    def calculate(g: nx.Graph, occurrence_nodes: List[int]) -> float:\n",
    "        return float\n",
    "        \n",
    "    \n",
    "# Use a in-built metric\n",
    "degree = PMetric.DegreeMetric()\n",
    "\n",
    "# Setup Calculation\n",
    "controller = PMetricController(on_disk=\"~/pmotif_experiments\")  # Results will be stored and loaded from here\n",
    "\n",
    "g = nx.read_edgelist(\"...\")\n",
    "\n",
    "original_graphlet_metric_lookup, random_graphlet_metric_lookup = controller.p_motif_detection(\n",
    "    g,\n",
    "    graphlet_size=3,\n",
    "    random_graphs=1000,\n",
    "    method=\"edge_swap\",\n",
    "    metrics=[CustomMetric(), PMetric.DegreeMetric()]\n",
    ")"
   ]
  },
  {
   "cell_type": "code",
   "execution_count": null,
   "id": "9c4e9b8b",
   "metadata": {},
   "outputs": [],
   "source": [
    "\"\"\"Disk interaction\"\"\"\n",
    "from pmotif_lib import PMetricController\n",
    "\n",
    "PMetricController(on_disk=\"~/pmotif_experiments\").wipe()\n",
    "PMetricController(on_disk=\"~/pmotif_experiments\").clear_all(graph=g)\n",
    "\n",
    "PMetricController(on_disk=\"~/pmotif_experiments\").clear_graphlets(graph=g, graphlet_size=3)\n",
    "PMetricController(on_disk=\"~/pmotif_experiments\").clear_metrics(graph=g, graphlet_size=3)\n",
    "\n",
    "PMetricController(on_disk=\"~/pmotif_experiments\").clear_random_graphs(graph=g)\n",
    "PMetricController(on_disk=\"~/pmotif_experiments\").clear_random_graphs_graphlets(graph=g, graphlet_size=3)\n",
    "PMetricController(on_disk=\"~/pmotif_experiments\").clear_random_graphs_metrics(graph=g, graphlet_size=3)"
   ]
  },
  {
   "cell_type": "code",
   "execution_count": null,
   "id": "bf8c103e",
   "metadata": {},
   "outputs": [],
   "source": [
    "\"\"\"Listing and Loading\"\"\"\n",
    "from pmotif_lib import PMetricController\n",
    "\n",
    "\n",
    "PMetricController(on_disk=\"~/pmotif_experiments\").list_entries()\n",
    "\n",
    "PMetricController(on_disk=\"~/pmotif_experiments\").load_graphlets(g, graphlet_size=3)\n",
    "PMetricController(on_disk=\"~/pmotif_experiments\").load_metrics(g, graphlet_size=3)\n",
    "PMetricController(on_disk=\"~/pmotif_experiments\").load_random_graphs(g)\n",
    "PMetricController(on_disk=\"~/pmotif_experiments\").load_random_graph_graphlets(g, graphlet_size=3)\n",
    "PMetricController(on_disk=\"~/pmotif_experiments\").load_random_graph_metrics(g, graphlet_size=3)"
   ]
  },
  {
   "cell_type": "code",
   "execution_count": 3,
   "id": "56c1abed",
   "metadata": {},
   "outputs": [
    {
     "data": {
      "text/plain": [
       "<networkx.classes.multidigraph.MultiDiGraph at 0x7fbe36649780>"
      ]
     },
     "execution_count": 3,
     "metadata": {},
     "output_type": "execute_result"
    }
   ],
   "source": [
    "import networkx as nx\n",
    "\n",
    "g = nx.scale_free_graph(10)\n",
    "g"
   ]
  }
 ],
 "metadata": {
  "kernelspec": {
   "display_name": "masterthesis",
   "language": "python",
   "name": "masterthesis"
  },
  "language_info": {
   "codemirror_mode": {
    "name": "ipython",
    "version": 3
   },
   "file_extension": ".py",
   "mimetype": "text/x-python",
   "name": "python",
   "nbconvert_exporter": "python",
   "pygments_lexer": "ipython3",
   "version": "3.10.6"
  }
 },
 "nbformat": 4,
 "nbformat_minor": 5
}
