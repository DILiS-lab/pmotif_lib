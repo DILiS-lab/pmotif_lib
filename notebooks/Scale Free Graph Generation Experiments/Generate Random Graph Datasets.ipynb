{
 "cells": [
  {
   "cell_type": "code",
   "execution_count": 1,
   "id": "410cc878",
   "metadata": {},
   "outputs": [],
   "source": [
    "import networkx as nx\n",
    "import pandas as pd\n",
    "import os\n",
    "\n",
    "from pmotifs.config.config import DATASET_DIRECTORY\n",
    "from pmotifs.gtrieScanner.graph_io import write_shifted_edgelist\n",
    "\n",
    "\n",
    "NODES = 1000\n",
    "VERSIONS = 5\n",
    "OUT = DATASET_DIRECTORY / \"random_graphs\"\n",
    "\n",
    "os.mkdir(OUT)"
   ]
  },
  {
   "cell_type": "code",
   "execution_count": 2,
   "id": "58fa1b58",
   "metadata": {},
   "outputs": [],
   "source": [
    "# barabasi_albert_graph\n",
    "for i in range(VERSIONS):\n",
    "    g = nx.barabasi_albert_graph(NODES, m=1)\n",
    "    write_shifted_edgelist(g, OUT / f\"{i}_barabasi_albert_graph_m_1\")\n",
    "\n",
    "for i in range(VERSIONS):\n",
    "    g = nx.barabasi_albert_graph(NODES, m=2)\n",
    "    write_shifted_edgelist(g, OUT / f\"{i}_barabasi_albert_graph_m_2\")\n",
    "    \n",
    "for i in range(VERSIONS):\n",
    "    g = nx.barabasi_albert_graph(NODES, m=3)\n",
    "    write_shifted_edgelist(g, OUT / f\"{i}_barabasi_albert_graph_m_3\")"
   ]
  },
  {
   "cell_type": "code",
   "execution_count": 3,
   "id": "3286def8",
   "metadata": {},
   "outputs": [
    {
     "name": "stdout",
     "output_type": "stream",
     "text": [
      "Found\n",
      "Found\n",
      "Found\n",
      "Found\n",
      "Found\n"
     ]
    }
   ],
   "source": [
    "# erdos_renyi  \n",
    "for i in range(VERSIONS):\n",
    "    max_edges = NODES * (NODES - 1)\n",
    "    target_edges = 2345\n",
    "\n",
    "    p = (2345 / max_edges) * 2\n",
    "\n",
    "    while 1:\n",
    "        g = nx.erdos_renyi_graph(NODES + 10, p)\n",
    "        components = list(nx.connected_components(g))\n",
    "        if len(components) != 1:\n",
    "            largest_component = sorted(zip(components, map(lambda x: len(x), components)))[0][0]\n",
    "            g = nx.induced_subgraph(g, largest_component)\n",
    "\n",
    "        if len(g.nodes) == NODES:\n",
    "            if target_edges * 0.99 <= len(g.edges) <= target_edges * 1.01:\n",
    "                break\n",
    "    write_shifted_edgelist(g, OUT / f\"{i}_ferdos_renyi_graph_m_2000\")\n",
    "    print(\"Found\")"
   ]
  },
  {
   "cell_type": "code",
   "execution_count": 4,
   "id": "5724471a",
   "metadata": {},
   "outputs": [],
   "source": [
    "# Scale Free\n",
    "\n",
    "for i in range(VERSIONS):\n",
    "    g = nx.scale_free_graph(NODES, alpha=0.28, beta=0.7, gamma=0.02)\n",
    "    g = nx.Graph(g)\n",
    "    write_shifted_edgelist(g, OUT / f\"{i}_scale_free_graph_a_28_b_7_g_02\")\n",
    "    \n",
    "for i in range(VERSIONS):\n",
    "    g = nx.scale_free_graph(NODES, alpha=0.35, beta=0.3, gamma=0.35)\n",
    "    g = nx.Graph(g)\n",
    "    write_shifted_edgelist(g, OUT / f\"{i}_scale_free_graph_a_35_b_3_g_35\")\n",
    "\n",
    "for i in range(VERSIONS):\n",
    "    g = nx.scale_free_graph(NODES, alpha=0.65, beta=0.1, gamma=0.25)\n",
    "    g = nx.Graph(g)\n",
    "    write_shifted_edgelist(g, OUT / f\"{i}_scale_free_graph_a_65_b_1_g_25\")\n",
    "    "
   ]
  }
 ],
 "metadata": {
  "kernelspec": {
   "display_name": "masterthesis",
   "language": "python",
   "name": "masterthesis"
  },
  "language_info": {
   "codemirror_mode": {
    "name": "ipython",
    "version": 3
   },
   "file_extension": ".py",
   "mimetype": "text/x-python",
   "name": "python",
   "nbconvert_exporter": "python",
   "pygments_lexer": "ipython3",
   "version": "3.10.6"
  }
 },
 "nbformat": 4,
 "nbformat_minor": 5
}
