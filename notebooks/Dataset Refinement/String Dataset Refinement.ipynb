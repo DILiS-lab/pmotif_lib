{
 "cells": [
  {
   "cell_type": "code",
   "execution_count": 1,
   "id": "0099fa7a",
   "metadata": {},
   "outputs": [],
   "source": [
    "import networkx as nx\n",
    "\n",
    "from pmotifs.config import config"
   ]
  },
  {
   "cell_type": "code",
   "execution_count": 2,
   "id": "27ca314b",
   "metadata": {},
   "outputs": [],
   "source": [
    "import os\n",
    "\n",
    "ppi_networks_dir = config.DATASET_DIRECTORY / \"some_PPI_networks\""
   ]
  },
  {
   "cell_type": "code",
   "execution_count": 3,
   "id": "19d93adf",
   "metadata": {},
   "outputs": [],
   "source": [
    "def parse_ppi_tsv(tsv):\n",
    "    return nx.read_edgelist(\n",
    "        tsv,\n",
    "        delimiter=\"\\t\",\n",
    "        data=[\n",
    "            (\"node1_string_id\", str),\n",
    "            (\"node2_string_id\", str),\n",
    "            (\"neighborhood_on_chromosome\", float),\n",
    "            (\"gene_fusion\", float),\n",
    "            (\"phylogenetic_cooccurrence\", float),\n",
    "            (\"homology\", float),\n",
    "            (\"coexpression\", float),\n",
    "            (\"experimentally_determined_interaction\", float),\n",
    "            (\"database_annotated\", float),\n",
    "            (\"automated_textmining\", float),\n",
    "            (\"combined_score\", float),\n",
    "        ],\n",
    "    )"
   ]
  },
  {
   "cell_type": "code",
   "execution_count": 4,
   "id": "be5cd14d",
   "metadata": {},
   "outputs": [],
   "source": [
    "networks = {\n",
    "    n: parse_ppi_tsv(ppi_networks_dir / n)\n",
    "    for n in os.listdir(ppi_networks_dir)\n",
    "}"
   ]
  },
  {
   "cell_type": "code",
   "execution_count": 5,
   "id": "7bc29c41",
   "metadata": {},
   "outputs": [],
   "source": [
    "def remove_edges_to_fit(original_g, max_edges, score_field=\"combined_score\"):\n",
    "    if max_edges < 0:\n",
    "        raise ValueError(\"Can not reduce graph to less than 0 edges!\")\n",
    "    \n",
    "    g = original_g.copy()\n",
    "    del original_g\n",
    "\n",
    "    scores_to_edges = {}\n",
    "    for edge, value in nx.get_edge_attributes(g, name=score_field).items():\n",
    "        scores_to_edges[value] = scores_to_edges.get(value, []) + [edge]\n",
    "\n",
    "    total_edge_count = len(g.edges)\n",
    "    unique_scores_sorted = sorted(scores_to_edges.keys())\n",
    "\n",
    "    removed = 0\n",
    "    current_cutoff_index = -1\n",
    "    while total_edge_count - removed > max_edges:\n",
    "        current_cutoff_index += 1\n",
    "        cutoff_value = unique_scores_sorted[current_cutoff_index]\n",
    "        \n",
    "        values_to_remove = [v for v in unique_scores_sorted if v <= cutoff_value]\n",
    "        edges_to_remove = [edge for v in values_to_remove for edge in scores_to_edges[v] ]\n",
    "        removed = sum([len(scores_to_edges[v]) for v in values_to_remove])\n",
    "\n",
    "    for edge in edges_to_remove:\n",
    "        g.remove_edge(*edge)\n",
    "\n",
    "    return g, cutoff_value"
   ]
  },
  {
   "cell_type": "code",
   "execution_count": 7,
   "id": "d3ef441c",
   "metadata": {},
   "outputs": [
    {
     "name": "stdout",
     "output_type": "stream",
     "text": [
      "human_memory_all_string_interactions_short.tsv 106 522\n",
      "ecoli_metabolism_macromol_string_interactions_short.tsv 805 10414\n",
      "\tToo many edges, pre-processing by finding optimal cutoff-value\n",
      "\tCutoff Chosen at 0.965\n",
      "\tRemoved 81.0% of all edges\n",
      "\tNew graph:  805 1988\n",
      "human_cancer_string_interactions_short.tsv 862 19730\n",
      "\tToo many edges, pre-processing by finding optimal cutoff-value\n",
      "\tCutoff Chosen at 0.936\n",
      "\tRemoved 90.0% of all edges\n",
      "\tNew graph:  862 1997\n",
      "human_celldeath_string_interactions_short.tsv 1068 15758\n",
      "\tToo many edges, pre-processing by finding optimal cutoff-value\n",
      "\tCutoff Chosen at 0.94\n",
      "\tRemoved 87.0% of all edges\n",
      "\tNew graph:  1068 1993\n",
      "human_cellcycleGO_string_interactions_short.tsv 1293 37751\n",
      "\tToo many edges, pre-processing by finding optimal cutoff-value\n",
      "\tCutoff Chosen at 0.989\n",
      "\tRemoved 95.0% of all edges\n",
      "\tNew graph:  1293 1978\n",
      "human_brain_development_string_interactions_short.tsv 733 8824\n",
      "\tToo many edges, pre-processing by finding optimal cutoff-value\n",
      "\tCutoff Chosen at 0.775\n",
      "\tRemoved 77.0% of all edges\n",
      "\tNew graph:  733 1999\n",
      "human_alzheimerskegg_string_interactions_short.tsv 355 8680\n",
      "\tToo many edges, pre-processing by finding optimal cutoff-value\n",
      "\tCutoff Chosen at 0.989\n",
      "\tRemoved 77.0% of all edges\n",
      "\tNew graph:  355 1961\n",
      "ecoli536_signaling_string_interactions_short.tsv 79 552\n"
     ]
    }
   ],
   "source": [
    "from pmotifs.gtrieScanner.graph_io import write_shifted_edgelist\n",
    "\n",
    "max_edges = 2000\n",
    "\n",
    "for n, g in networks.items():\n",
    "    print(n, len(g.nodes), len(g.edges))\n",
    "    preproc = False\n",
    "    if len(g.edges) > max_edges:\n",
    "        print(\"\\tToo many edges, pre-processing by finding optimal cutoff-value\")\n",
    "        preproc_g, cutoff_value = remove_edges_to_fit(g, max_edges)\n",
    "        \n",
    "        print(\"\\tCutoff Chosen at\", cutoff_value)\n",
    "        print(f\"\\tRemoved {round(1 - len(preproc_g.edges) / len(g.edges), 2) * 100}% of all edges\")\n",
    "        print(\"\\tNew graph: \", len(preproc_g.nodes), len(preproc_g.edges))\n",
    "        preproc = True\n",
    "    \n",
    "    # Write new graphs\n",
    "    old_postfix = \"_string_interactions_short.tsv\"\n",
    "    if preproc:\n",
    "        new_postfix = f\"_cutoff_{cutoff_value}.edgelist\"\n",
    "        out_graph = preproc_g\n",
    "    else:\n",
    "        new_postfix = f\"_cutoff_None.edgelist\"\n",
    "        out_graph = g\n",
    "    \n",
    "    outpath = config.DATASET_DIRECTORY / n.replace(old_postfix, new_postfix)\n",
    "    write_shifted_edgelist(out_graph, outpath, reindex=True)"
   ]
  }
 ],
 "metadata": {
  "kernelspec": {
   "display_name": "masterthesis",
   "language": "python",
   "name": "masterthesis"
  },
  "language_info": {
   "codemirror_mode": {
    "name": "ipython",
    "version": 3
   },
   "file_extension": ".py",
   "mimetype": "text/x-python",
   "name": "python",
   "nbconvert_exporter": "python",
   "pygments_lexer": "ipython3",
   "version": "3.10.6"
  }
 },
 "nbformat": 4,
 "nbformat_minor": 5
}
